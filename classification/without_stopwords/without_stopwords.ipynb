{
 "cells": [
  {
   "cell_type": "code",
   "execution_count": 1,
   "metadata": {},
   "outputs": [],
   "source": [
    "import pandas as pd\n",
    "import numpy as np"
   ]
  },
  {
   "cell_type": "code",
   "execution_count": 250,
   "metadata": {},
   "outputs": [],
   "source": [
    "data = pd.read_csv('PoetryFoundationData.csv')"
   ]
  },
  {
   "cell_type": "code",
   "execution_count": 251,
   "metadata": {},
   "outputs": [],
   "source": [
    "gender = pd.read_csv('Poets.csv')"
   ]
  },
  {
   "cell_type": "code",
   "execution_count": 252,
   "metadata": {},
   "outputs": [
    {
     "data": {
      "text/html": [
       "<div>\n",
       "<style scoped>\n",
       "    .dataframe tbody tr th:only-of-type {\n",
       "        vertical-align: middle;\n",
       "    }\n",
       "\n",
       "    .dataframe tbody tr th {\n",
       "        vertical-align: top;\n",
       "    }\n",
       "\n",
       "    .dataframe thead th {\n",
       "        text-align: right;\n",
       "    }\n",
       "</style>\n",
       "<table border=\"1\" class=\"dataframe\">\n",
       "  <thead>\n",
       "    <tr style=\"text-align: right;\">\n",
       "      <th></th>\n",
       "      <th>Unnamed: 0</th>\n",
       "      <th>Title</th>\n",
       "      <th>Poem</th>\n",
       "      <th>Poet</th>\n",
       "      <th>Tags</th>\n",
       "    </tr>\n",
       "  </thead>\n",
       "  <tbody>\n",
       "    <tr>\n",
       "      <th>0</th>\n",
       "      <td>0</td>\n",
       "      <td>\\r\\r\\n                    Objects Used to Prop...</td>\n",
       "      <td>\\r\\r\\nDog bone, stapler,\\r\\r\\ncribbage board, ...</td>\n",
       "      <td>Michelle Menting</td>\n",
       "      <td>NaN</td>\n",
       "    </tr>\n",
       "    <tr>\n",
       "      <th>1</th>\n",
       "      <td>1</td>\n",
       "      <td>\\r\\r\\n                    The New Church\\r\\r\\n...</td>\n",
       "      <td>\\r\\r\\nThe old cupola glinted above the clouds,...</td>\n",
       "      <td>Lucia Cherciu</td>\n",
       "      <td>NaN</td>\n",
       "    </tr>\n",
       "    <tr>\n",
       "      <th>2</th>\n",
       "      <td>2</td>\n",
       "      <td>\\r\\r\\n                    Look for Me\\r\\r\\n   ...</td>\n",
       "      <td>\\r\\r\\nLook for me under the hood\\r\\r\\nof that ...</td>\n",
       "      <td>Ted Kooser</td>\n",
       "      <td>NaN</td>\n",
       "    </tr>\n",
       "    <tr>\n",
       "      <th>3</th>\n",
       "      <td>3</td>\n",
       "      <td>\\r\\r\\n                    Wild Life\\r\\r\\n     ...</td>\n",
       "      <td>\\r\\r\\nBehind the silo, the Mother Rabbit\\r\\r\\n...</td>\n",
       "      <td>Grace Cavalieri</td>\n",
       "      <td>NaN</td>\n",
       "    </tr>\n",
       "    <tr>\n",
       "      <th>4</th>\n",
       "      <td>4</td>\n",
       "      <td>\\r\\r\\n                    Umbrella\\r\\r\\n      ...</td>\n",
       "      <td>\\r\\r\\nWhen I push your button\\r\\r\\nyou fly off...</td>\n",
       "      <td>Connie Wanek</td>\n",
       "      <td>NaN</td>\n",
       "    </tr>\n",
       "    <tr>\n",
       "      <th>5</th>\n",
       "      <td>5</td>\n",
       "      <td>\\r\\r\\n                    Sunday\\r\\r\\n        ...</td>\n",
       "      <td>\\r\\r\\nYou are the start of the week\\r\\r\\nor th...</td>\n",
       "      <td>January Gill O'Neil</td>\n",
       "      <td>NaN</td>\n",
       "    </tr>\n",
       "    <tr>\n",
       "      <th>6</th>\n",
       "      <td>6</td>\n",
       "      <td>\\r\\r\\n                    Invisible Fish\\r\\r\\n...</td>\n",
       "      <td>\\r\\r\\nInvisible fish swim this ghost ocean now...</td>\n",
       "      <td>Joy Harjo</td>\n",
       "      <td>Living,Time &amp; Brevity,Relationships,Family &amp; A...</td>\n",
       "    </tr>\n",
       "    <tr>\n",
       "      <th>7</th>\n",
       "      <td>7</td>\n",
       "      <td>\\r\\r\\n                    Don’t Bother the Ear...</td>\n",
       "      <td>\\r\\r\\nDon’t bother the earth spirit who lives ...</td>\n",
       "      <td>Joy Harjo</td>\n",
       "      <td>Religion,The Spiritual,Mythology &amp; Folklore,Fa...</td>\n",
       "    </tr>\n",
       "    <tr>\n",
       "      <th>8</th>\n",
       "      <td>8</td>\n",
       "      <td>\\r\\r\\n                    The One Thing That C...</td>\n",
       "      <td>\\r\\r\\nIs anything central?\\r\\r\\nOrchards flung...</td>\n",
       "      <td>John Ashbery</td>\n",
       "      <td>NaN</td>\n",
       "    </tr>\n",
       "    <tr>\n",
       "      <th>9</th>\n",
       "      <td>9</td>\n",
       "      <td>\\r\\r\\n                    [\"Hour in which I co...</td>\n",
       "      <td>\\r\\r\\nHour in which I consider hydrangea, a sa...</td>\n",
       "      <td>Simone White</td>\n",
       "      <td>Living,Parenthood,The Body,The Mind,Nature,Tre...</td>\n",
       "    </tr>\n",
       "  </tbody>\n",
       "</table>\n",
       "</div>"
      ],
      "text/plain": [
       "   Unnamed: 0                                              Title  \\\n",
       "0           0  \\r\\r\\n                    Objects Used to Prop...   \n",
       "1           1  \\r\\r\\n                    The New Church\\r\\r\\n...   \n",
       "2           2  \\r\\r\\n                    Look for Me\\r\\r\\n   ...   \n",
       "3           3  \\r\\r\\n                    Wild Life\\r\\r\\n     ...   \n",
       "4           4  \\r\\r\\n                    Umbrella\\r\\r\\n      ...   \n",
       "5           5  \\r\\r\\n                    Sunday\\r\\r\\n        ...   \n",
       "6           6  \\r\\r\\n                    Invisible Fish\\r\\r\\n...   \n",
       "7           7  \\r\\r\\n                    Don’t Bother the Ear...   \n",
       "8           8  \\r\\r\\n                    The One Thing That C...   \n",
       "9           9  \\r\\r\\n                    [\"Hour in which I co...   \n",
       "\n",
       "                                                Poem                 Poet  \\\n",
       "0  \\r\\r\\nDog bone, stapler,\\r\\r\\ncribbage board, ...     Michelle Menting   \n",
       "1  \\r\\r\\nThe old cupola glinted above the clouds,...        Lucia Cherciu   \n",
       "2  \\r\\r\\nLook for me under the hood\\r\\r\\nof that ...           Ted Kooser   \n",
       "3  \\r\\r\\nBehind the silo, the Mother Rabbit\\r\\r\\n...      Grace Cavalieri   \n",
       "4  \\r\\r\\nWhen I push your button\\r\\r\\nyou fly off...         Connie Wanek   \n",
       "5  \\r\\r\\nYou are the start of the week\\r\\r\\nor th...  January Gill O'Neil   \n",
       "6  \\r\\r\\nInvisible fish swim this ghost ocean now...            Joy Harjo   \n",
       "7  \\r\\r\\nDon’t bother the earth spirit who lives ...            Joy Harjo   \n",
       "8  \\r\\r\\nIs anything central?\\r\\r\\nOrchards flung...         John Ashbery   \n",
       "9  \\r\\r\\nHour in which I consider hydrangea, a sa...         Simone White   \n",
       "\n",
       "                                                Tags  \n",
       "0                                                NaN  \n",
       "1                                                NaN  \n",
       "2                                                NaN  \n",
       "3                                                NaN  \n",
       "4                                                NaN  \n",
       "5                                                NaN  \n",
       "6  Living,Time & Brevity,Relationships,Family & A...  \n",
       "7  Religion,The Spiritual,Mythology & Folklore,Fa...  \n",
       "8                                                NaN  \n",
       "9  Living,Parenthood,The Body,The Mind,Nature,Tre...  "
      ]
     },
     "execution_count": 252,
     "metadata": {},
     "output_type": "execute_result"
    }
   ],
   "source": [
    "data.head(10)"
   ]
  },
  {
   "cell_type": "code",
   "execution_count": 253,
   "metadata": {},
   "outputs": [
    {
     "data": {
      "text/html": [
       "<div>\n",
       "<style scoped>\n",
       "    .dataframe tbody tr th:only-of-type {\n",
       "        vertical-align: middle;\n",
       "    }\n",
       "\n",
       "    .dataframe tbody tr th {\n",
       "        vertical-align: top;\n",
       "    }\n",
       "\n",
       "    .dataframe thead th {\n",
       "        text-align: right;\n",
       "    }\n",
       "</style>\n",
       "<table border=\"1\" class=\"dataframe\">\n",
       "  <thead>\n",
       "    <tr style=\"text-align: right;\">\n",
       "      <th></th>\n",
       "      <th>gender</th>\n",
       "    </tr>\n",
       "  </thead>\n",
       "  <tbody>\n",
       "    <tr>\n",
       "      <th>0</th>\n",
       "      <td>F</td>\n",
       "    </tr>\n",
       "    <tr>\n",
       "      <th>1</th>\n",
       "      <td>F</td>\n",
       "    </tr>\n",
       "    <tr>\n",
       "      <th>2</th>\n",
       "      <td>M</td>\n",
       "    </tr>\n",
       "    <tr>\n",
       "      <th>3</th>\n",
       "      <td>F</td>\n",
       "    </tr>\n",
       "    <tr>\n",
       "      <th>4</th>\n",
       "      <td>F</td>\n",
       "    </tr>\n",
       "    <tr>\n",
       "      <th>5</th>\n",
       "      <td>F</td>\n",
       "    </tr>\n",
       "    <tr>\n",
       "      <th>6</th>\n",
       "      <td>F</td>\n",
       "    </tr>\n",
       "    <tr>\n",
       "      <th>7</th>\n",
       "      <td>M</td>\n",
       "    </tr>\n",
       "    <tr>\n",
       "      <th>8</th>\n",
       "      <td>F</td>\n",
       "    </tr>\n",
       "    <tr>\n",
       "      <th>9</th>\n",
       "      <td>F</td>\n",
       "    </tr>\n",
       "  </tbody>\n",
       "</table>\n",
       "</div>"
      ],
      "text/plain": [
       "  gender\n",
       "0      F\n",
       "1      F\n",
       "2      M\n",
       "3      F\n",
       "4      F\n",
       "5      F\n",
       "6      F\n",
       "7      M\n",
       "8      F\n",
       "9      F"
      ]
     },
     "execution_count": 253,
     "metadata": {},
     "output_type": "execute_result"
    }
   ],
   "source": [
    "gender.head(10)"
   ]
  },
  {
   "cell_type": "code",
   "execution_count": 254,
   "metadata": {},
   "outputs": [],
   "source": [
    "df_poet = pd.DataFrame({'Poet':data['Poet'].unique()})"
   ]
  },
  {
   "cell_type": "code",
   "execution_count": 255,
   "metadata": {},
   "outputs": [],
   "source": [
    "df = pd.concat([df_poet.reset_index(drop=True), gender], axis=1)"
   ]
  },
  {
   "cell_type": "code",
   "execution_count": 256,
   "metadata": {},
   "outputs": [
    {
     "data": {
      "text/html": [
       "<div>\n",
       "<style scoped>\n",
       "    .dataframe tbody tr th:only-of-type {\n",
       "        vertical-align: middle;\n",
       "    }\n",
       "\n",
       "    .dataframe tbody tr th {\n",
       "        vertical-align: top;\n",
       "    }\n",
       "\n",
       "    .dataframe thead th {\n",
       "        text-align: right;\n",
       "    }\n",
       "</style>\n",
       "<table border=\"1\" class=\"dataframe\">\n",
       "  <thead>\n",
       "    <tr style=\"text-align: right;\">\n",
       "      <th></th>\n",
       "      <th>Unnamed: 0</th>\n",
       "      <th>Title</th>\n",
       "      <th>Poem</th>\n",
       "      <th>Poet</th>\n",
       "      <th>Tags</th>\n",
       "      <th>gender</th>\n",
       "    </tr>\n",
       "  </thead>\n",
       "  <tbody>\n",
       "    <tr>\n",
       "      <th>0</th>\n",
       "      <td>0</td>\n",
       "      <td>\\r\\r\\n                    Objects Used to Prop...</td>\n",
       "      <td>\\r\\r\\nDog bone, stapler,\\r\\r\\ncribbage board, ...</td>\n",
       "      <td>Michelle Menting</td>\n",
       "      <td>NaN</td>\n",
       "      <td>F</td>\n",
       "    </tr>\n",
       "    <tr>\n",
       "      <th>1</th>\n",
       "      <td>1</td>\n",
       "      <td>\\r\\r\\n                    The New Church\\r\\r\\n...</td>\n",
       "      <td>\\r\\r\\nThe old cupola glinted above the clouds,...</td>\n",
       "      <td>Lucia Cherciu</td>\n",
       "      <td>NaN</td>\n",
       "      <td>F</td>\n",
       "    </tr>\n",
       "    <tr>\n",
       "      <th>2</th>\n",
       "      <td>2</td>\n",
       "      <td>\\r\\r\\n                    Look for Me\\r\\r\\n   ...</td>\n",
       "      <td>\\r\\r\\nLook for me under the hood\\r\\r\\nof that ...</td>\n",
       "      <td>Ted Kooser</td>\n",
       "      <td>NaN</td>\n",
       "      <td>M</td>\n",
       "    </tr>\n",
       "    <tr>\n",
       "      <th>3</th>\n",
       "      <td>3</td>\n",
       "      <td>\\r\\r\\n                    Wild Life\\r\\r\\n     ...</td>\n",
       "      <td>\\r\\r\\nBehind the silo, the Mother Rabbit\\r\\r\\n...</td>\n",
       "      <td>Grace Cavalieri</td>\n",
       "      <td>NaN</td>\n",
       "      <td>F</td>\n",
       "    </tr>\n",
       "    <tr>\n",
       "      <th>4</th>\n",
       "      <td>4</td>\n",
       "      <td>\\r\\r\\n                    Umbrella\\r\\r\\n      ...</td>\n",
       "      <td>\\r\\r\\nWhen I push your button\\r\\r\\nyou fly off...</td>\n",
       "      <td>Connie Wanek</td>\n",
       "      <td>NaN</td>\n",
       "      <td>F</td>\n",
       "    </tr>\n",
       "    <tr>\n",
       "      <th>5</th>\n",
       "      <td>5</td>\n",
       "      <td>\\r\\r\\n                    Sunday\\r\\r\\n        ...</td>\n",
       "      <td>\\r\\r\\nYou are the start of the week\\r\\r\\nor th...</td>\n",
       "      <td>January Gill O'Neil</td>\n",
       "      <td>NaN</td>\n",
       "      <td>F</td>\n",
       "    </tr>\n",
       "    <tr>\n",
       "      <th>6</th>\n",
       "      <td>6</td>\n",
       "      <td>\\r\\r\\n                    Invisible Fish\\r\\r\\n...</td>\n",
       "      <td>\\r\\r\\nInvisible fish swim this ghost ocean now...</td>\n",
       "      <td>Joy Harjo</td>\n",
       "      <td>Living,Time &amp; Brevity,Relationships,Family &amp; A...</td>\n",
       "      <td>F</td>\n",
       "    </tr>\n",
       "    <tr>\n",
       "      <th>7</th>\n",
       "      <td>7</td>\n",
       "      <td>\\r\\r\\n                    Don’t Bother the Ear...</td>\n",
       "      <td>\\r\\r\\nDon’t bother the earth spirit who lives ...</td>\n",
       "      <td>Joy Harjo</td>\n",
       "      <td>Religion,The Spiritual,Mythology &amp; Folklore,Fa...</td>\n",
       "      <td>F</td>\n",
       "    </tr>\n",
       "    <tr>\n",
       "      <th>8</th>\n",
       "      <td>8</td>\n",
       "      <td>\\r\\r\\n                    The One Thing That C...</td>\n",
       "      <td>\\r\\r\\nIs anything central?\\r\\r\\nOrchards flung...</td>\n",
       "      <td>John Ashbery</td>\n",
       "      <td>NaN</td>\n",
       "      <td>M</td>\n",
       "    </tr>\n",
       "    <tr>\n",
       "      <th>9</th>\n",
       "      <td>9</td>\n",
       "      <td>\\r\\r\\n                    [\"Hour in which I co...</td>\n",
       "      <td>\\r\\r\\nHour in which I consider hydrangea, a sa...</td>\n",
       "      <td>Simone White</td>\n",
       "      <td>Living,Parenthood,The Body,The Mind,Nature,Tre...</td>\n",
       "      <td>F</td>\n",
       "    </tr>\n",
       "    <tr>\n",
       "      <th>10</th>\n",
       "      <td>10</td>\n",
       "      <td>\\r\\r\\n                    Stung\\r\\r\\n         ...</td>\n",
       "      <td>\\r\\r\\nShe couldn't help but sting my finger,\\r...</td>\n",
       "      <td>Heid E. Erdrich</td>\n",
       "      <td>NaN</td>\n",
       "      <td>F</td>\n",
       "    </tr>\n",
       "    <tr>\n",
       "      <th>11</th>\n",
       "      <td>11</td>\n",
       "      <td>\\r\\r\\n                    Nothing But Good...\\...</td>\n",
       "      <td>\\r\\r\\nI will not speak ill of Jack Flick.\\r\\r\\...</td>\n",
       "      <td>Sarah White</td>\n",
       "      <td>NaN</td>\n",
       "      <td>F</td>\n",
       "    </tr>\n",
       "    <tr>\n",
       "      <th>12</th>\n",
       "      <td>12</td>\n",
       "      <td>\\r\\r\\n                    How Quiet\\r\\r\\n     ...</td>\n",
       "      <td>\\r\\r\\nHow quiet is the spruce,\\r\\r\\nthe wind t...</td>\n",
       "      <td>Judith Harris</td>\n",
       "      <td>NaN</td>\n",
       "      <td>F</td>\n",
       "    </tr>\n",
       "    <tr>\n",
       "      <th>13</th>\n",
       "      <td>13</td>\n",
       "      <td>\\r\\r\\n                    Porcupine\\r\\r\\n     ...</td>\n",
       "      <td>\\r\\r\\nYou think we are the pointed argument,\\r...</td>\n",
       "      <td>Kelly Madigan</td>\n",
       "      <td>NaN</td>\n",
       "      <td>F</td>\n",
       "    </tr>\n",
       "    <tr>\n",
       "      <th>14</th>\n",
       "      <td>14</td>\n",
       "      <td>\\r\\r\\n                    Summer Apples\\r\\r\\n ...</td>\n",
       "      <td>\\r\\r\\nI planted an apple tree in memory\\r\\r\\no...</td>\n",
       "      <td>Cathryn Essinger</td>\n",
       "      <td>NaN</td>\n",
       "      <td>F</td>\n",
       "    </tr>\n",
       "    <tr>\n",
       "      <th>15</th>\n",
       "      <td>15</td>\n",
       "      <td>\\r\\r\\n                    Visiting the Neighbo...</td>\n",
       "      <td>\\r\\r\\nThe entrance at the back of the complex\\...</td>\n",
       "      <td>P. Ivan Young</td>\n",
       "      <td>NaN</td>\n",
       "      <td>M</td>\n",
       "    </tr>\n",
       "    <tr>\n",
       "      <th>16</th>\n",
       "      <td>16</td>\n",
       "      <td>\\r\\r\\n                    scars\\r\\r\\n         ...</td>\n",
       "      <td>\\r\\r\\nmy father’s body is a map\\r\\r\\na record ...</td>\n",
       "      <td>Truong Tran</td>\n",
       "      <td>The Body,Family &amp; Ancestors</td>\n",
       "      <td>F</td>\n",
       "    </tr>\n",
       "    <tr>\n",
       "      <th>17</th>\n",
       "      <td>17</td>\n",
       "      <td>\\r\\r\\n                    what remains two\\r\\r...</td>\n",
       "      <td>\\r\\r\\nit has long been forgotten this practice...</td>\n",
       "      <td>Truong Tran</td>\n",
       "      <td>Infancy,Parenthood,The Body</td>\n",
       "      <td>F</td>\n",
       "    </tr>\n",
       "    <tr>\n",
       "      <th>18</th>\n",
       "      <td>18</td>\n",
       "      <td>\\r\\r\\n                    West of Myself\\r\\r\\n...</td>\n",
       "      <td>\\r\\r\\nWhy are you still seventeen\\r\\r\\nand dri...</td>\n",
       "      <td>Debora Greger</td>\n",
       "      <td>Coming of Age</td>\n",
       "      <td>F</td>\n",
       "    </tr>\n",
       "    <tr>\n",
       "      <th>19</th>\n",
       "      <td>19</td>\n",
       "      <td>\\r\\r\\n                    Yes\\r\\r\\n           ...</td>\n",
       "      <td>\\r\\r\\n\\r\\r\\n\\r\\r\\n\\r\\r\\nYes, your childhood no...</td>\n",
       "      <td>Debora Greger</td>\n",
       "      <td>Coming of Age,Youth</td>\n",
       "      <td>F</td>\n",
       "    </tr>\n",
       "    <tr>\n",
       "      <th>20</th>\n",
       "      <td>20</td>\n",
       "      <td>\\r\\r\\n                    Bounden Duty\\r\\r\\n  ...</td>\n",
       "      <td>\\r\\r\\n               I got a call from the Whi...</td>\n",
       "      <td>James Tate</td>\n",
       "      <td>Humor &amp; Satire,History &amp; Politics</td>\n",
       "      <td>M</td>\n",
       "    </tr>\n",
       "    <tr>\n",
       "      <th>21</th>\n",
       "      <td>21</td>\n",
       "      <td>\\r\\r\\n                    History\\r\\r\\n       ...</td>\n",
       "      <td>\\r\\r\\nOf course wars, of course lice, of cours...</td>\n",
       "      <td>Barbara Ras</td>\n",
       "      <td>History &amp; Politics,War &amp; Conflict</td>\n",
       "      <td>F</td>\n",
       "    </tr>\n",
       "    <tr>\n",
       "      <th>22</th>\n",
       "      <td>22</td>\n",
       "      <td>\\r\\r\\n                    What It Was Like\\r\\r...</td>\n",
       "      <td>\\r\\r\\nIf they ask what it was like, say it was...</td>\n",
       "      <td>Barbara Ras</td>\n",
       "      <td>Money &amp; Economics</td>\n",
       "      <td>F</td>\n",
       "    </tr>\n",
       "    <tr>\n",
       "      <th>23</th>\n",
       "      <td>23</td>\n",
       "      <td>\\r\\r\\n                    All\\r\\r\\n           ...</td>\n",
       "      <td>\\r\\r\\nThe prisoner can’t go any longer, but he...</td>\n",
       "      <td>Barbara Ras</td>\n",
       "      <td>Life Choices,Faith &amp; Doubt</td>\n",
       "      <td>F</td>\n",
       "    </tr>\n",
       "    <tr>\n",
       "      <th>24</th>\n",
       "      <td>24</td>\n",
       "      <td>\\r\\r\\n                    Sleeping with Butler...</td>\n",
       "      <td>\\r\\r\\n\\r\\r\\n\\r\\r\\n\\r\\r\\nAfter Octavio Paz\\r\\r\\...</td>\n",
       "      <td>Eugene Gloria</td>\n",
       "      <td>Language &amp; Linguistics,Poetry &amp; Poets</td>\n",
       "      <td>M</td>\n",
       "    </tr>\n",
       "    <tr>\n",
       "      <th>25</th>\n",
       "      <td>25</td>\n",
       "      <td>\\r\\r\\n                    Hoodlum Birds\\r\\r\\n ...</td>\n",
       "      <td>\\r\\r\\nThe fearless blackbirds see me again\\r\\r...</td>\n",
       "      <td>Eugene Gloria</td>\n",
       "      <td>Animals</td>\n",
       "      <td>M</td>\n",
       "    </tr>\n",
       "    <tr>\n",
       "      <th>26</th>\n",
       "      <td>26</td>\n",
       "      <td>\\r\\r\\n                    Wilde's Tomb\\r\\r\\n  ...</td>\n",
       "      <td>\\r\\r\\n\\r\\r\\n\\r\\r\\n\\r\\r\\nBut these, thy lovers ...</td>\n",
       "      <td>Michael Gessner</td>\n",
       "      <td>Poetry &amp; Poets</td>\n",
       "      <td>M</td>\n",
       "    </tr>\n",
       "    <tr>\n",
       "      <th>27</th>\n",
       "      <td>27</td>\n",
       "      <td>\\r\\r\\n                    The Poem of Death\\r\\...</td>\n",
       "      <td>\\r\\r\\nThis is the poem of death.\\r\\r\\nThere is...</td>\n",
       "      <td>Michael Gessner</td>\n",
       "      <td>Death</td>\n",
       "      <td>M</td>\n",
       "    </tr>\n",
       "    <tr>\n",
       "      <th>28</th>\n",
       "      <td>28</td>\n",
       "      <td>\\r\\r\\n                    The Innocents at San...</td>\n",
       "      <td>\\r\\r\\nNothing can reach you now, not lead or s...</td>\n",
       "      <td>Michael Gessner</td>\n",
       "      <td>Sorrow &amp; Grieving</td>\n",
       "      <td>M</td>\n",
       "    </tr>\n",
       "    <tr>\n",
       "      <th>29</th>\n",
       "      <td>29</td>\n",
       "      <td>\\r\\r\\n                    Fiddlers at the Dese...</td>\n",
       "      <td>\\r\\r\\nAmong physicians rich in their death wat...</td>\n",
       "      <td>Michael Gessner</td>\n",
       "      <td>Death,Sorrow &amp; Grieving</td>\n",
       "      <td>M</td>\n",
       "    </tr>\n",
       "    <tr>\n",
       "      <th>...</th>\n",
       "      <td>...</td>\n",
       "      <td>...</td>\n",
       "      <td>...</td>\n",
       "      <td>...</td>\n",
       "      <td>...</td>\n",
       "      <td>...</td>\n",
       "    </tr>\n",
       "    <tr>\n",
       "      <th>13824</th>\n",
       "      <td>10</td>\n",
       "      <td>\\r\\r\\n                    The Guru\\r\\r\\n      ...</td>\n",
       "      <td>\\r\\r\\nHere comes the wise man in the story of ...</td>\n",
       "      <td>A. F. Moritz</td>\n",
       "      <td>Religion,Arts &amp; Sciences,Humor &amp; Satire,Social...</td>\n",
       "      <td>F</td>\n",
       "    </tr>\n",
       "    <tr>\n",
       "      <th>13825</th>\n",
       "      <td>11</td>\n",
       "      <td>\\r\\r\\n                    Poem of Disconnected...</td>\n",
       "      <td>\\r\\r\\nAt Robben Island the political prisoners...</td>\n",
       "      <td>Robert Pinsky</td>\n",
       "      <td>Religion,Other Religions,The Spiritual,Arts &amp; ...</td>\n",
       "      <td>F</td>\n",
       "    </tr>\n",
       "    <tr>\n",
       "      <th>13826</th>\n",
       "      <td>12</td>\n",
       "      <td>\\r\\r\\n                    Stomackes\\r\\r\\n     ...</td>\n",
       "      <td>\\r\\r\\n\\r\\r\\n\\r\\r\\n\\r\\r\\nWe know far more about...</td>\n",
       "      <td>Albert Goldbarth</td>\n",
       "      <td>Activities,Eating &amp; Drinking,Religion,Christia...</td>\n",
       "      <td>M</td>\n",
       "    </tr>\n",
       "    <tr>\n",
       "      <th>13827</th>\n",
       "      <td>0</td>\n",
       "      <td>\\r\\r\\n                    Poem on His Birthday...</td>\n",
       "      <td>\\r\\r\\n\\r\\r\\n</td>\n",
       "      <td>Dylan Thomas</td>\n",
       "      <td>NaN</td>\n",
       "      <td>NaN</td>\n",
       "    </tr>\n",
       "    <tr>\n",
       "      <th>13828</th>\n",
       "      <td>1</td>\n",
       "      <td>\\r\\r\\n                    Country Songs\\r\\r\\n ...</td>\n",
       "      <td>\\r\\r\\n\\r\\r\\n</td>\n",
       "      <td>Ben Belitt</td>\n",
       "      <td>NaN</td>\n",
       "      <td>F</td>\n",
       "    </tr>\n",
       "    <tr>\n",
       "      <th>13829</th>\n",
       "      <td>2</td>\n",
       "      <td>\\r\\r\\n                    1 January 1965\\r\\r\\n...</td>\n",
       "      <td>\\r\\r\\nThe Wise Men will unlearn your name.\\r\\r...</td>\n",
       "      <td>Joseph Brodsky</td>\n",
       "      <td>Living,Death,Growing Old,Time &amp; Brevity,Nature...</td>\n",
       "      <td>F</td>\n",
       "    </tr>\n",
       "    <tr>\n",
       "      <th>13830</th>\n",
       "      <td>3</td>\n",
       "      <td>\\r\\r\\n                    1-800-FEAR\\r\\r\\n    ...</td>\n",
       "      <td>\\r\\r\\nWe'd  like  to  talk  with  you  about  ...</td>\n",
       "      <td>Jody Gladding</td>\n",
       "      <td>Living,Social Commentaries,Popular Culture</td>\n",
       "      <td>M</td>\n",
       "    </tr>\n",
       "    <tr>\n",
       "      <th>13831</th>\n",
       "      <td>0</td>\n",
       "      <td>\\r\\r\\n                    The Bean Eaters\\r\\r\\...</td>\n",
       "      <td>\\r\\r\\nThey eat beans mostly, this old yellow p...</td>\n",
       "      <td>Gwendolyn Brooks</td>\n",
       "      <td>Living,Growing Old,Marriage &amp; Companionship,Re...</td>\n",
       "      <td>M</td>\n",
       "    </tr>\n",
       "    <tr>\n",
       "      <th>13832</th>\n",
       "      <td>1</td>\n",
       "      <td>\\r\\r\\n                    The Spider\\r\\r\\n    ...</td>\n",
       "      <td>\\r\\r\\nI \\r\\r\\nThe spider expects the cold of w...</td>\n",
       "      <td>Richard Eberhart</td>\n",
       "      <td>Nature,Animals,Seas, Rivers, &amp; Streams,Summer,...</td>\n",
       "      <td>M</td>\n",
       "    </tr>\n",
       "    <tr>\n",
       "      <th>13833</th>\n",
       "      <td>0</td>\n",
       "      <td>\\r\\r\\n                    The Distances\\r\\r\\n ...</td>\n",
       "      <td>\\r\\r\\nThe accumulation of reefs\\r\\r\\npiling up...</td>\n",
       "      <td>Jim Carroll</td>\n",
       "      <td>NaN</td>\n",
       "      <td>NaN</td>\n",
       "    </tr>\n",
       "    <tr>\n",
       "      <th>13834</th>\n",
       "      <td>0</td>\n",
       "      <td>\\r\\r\\n                    0\\r\\r\\n</td>\n",
       "      <td>\\r\\r\\n          Philosophic\\r\\r\\nin its comple...</td>\n",
       "      <td>Hailey Leithauser</td>\n",
       "      <td>Arts &amp; Sciences,Philosophy</td>\n",
       "      <td>F</td>\n",
       "    </tr>\n",
       "    <tr>\n",
       "      <th>13835</th>\n",
       "      <td>1</td>\n",
       "      <td>\\r\\r\\n                    !\\r\\r\\n</td>\n",
       "      <td>\\r\\r\\nDear Writers, I’m compiling the first in...</td>\n",
       "      <td>Wendy Videlock</td>\n",
       "      <td>Relationships,Gay, Lesbian, Queer,Arts &amp; Scien...</td>\n",
       "      <td>F</td>\n",
       "    </tr>\n",
       "    <tr>\n",
       "      <th>13836</th>\n",
       "      <td>0</td>\n",
       "      <td>\\r\\r\\n                    Tinder and Flint\\r\\r...</td>\n",
       "      <td>\\r\\r\\n\\r\\r\\n</td>\n",
       "      <td>Lew R. Sarett</td>\n",
       "      <td>NaN</td>\n",
       "      <td>NaN</td>\n",
       "    </tr>\n",
       "    <tr>\n",
       "      <th>13837</th>\n",
       "      <td>1</td>\n",
       "      <td>\\r\\r\\n                    Hospital Poems\\r\\r\\n...</td>\n",
       "      <td>\\r\\r\\n\\r\\r\\n</td>\n",
       "      <td>Merrill Moore</td>\n",
       "      <td>NaN</td>\n",
       "      <td>NaN</td>\n",
       "    </tr>\n",
       "    <tr>\n",
       "      <th>13838</th>\n",
       "      <td>2</td>\n",
       "      <td>\\r\\r\\n                    Color of Dreams\\r\\r\\...</td>\n",
       "      <td>\\r\\r\\n\\r\\r\\n</td>\n",
       "      <td>Witter Bynner</td>\n",
       "      <td>NaN</td>\n",
       "      <td>NaN</td>\n",
       "    </tr>\n",
       "    <tr>\n",
       "      <th>13839</th>\n",
       "      <td>3</td>\n",
       "      <td>\\r\\r\\n                    By Way of Contrast\\r...</td>\n",
       "      <td>\\r\\r\\n\\r\\r\\n</td>\n",
       "      <td>Babette Deutsch</td>\n",
       "      <td>NaN</td>\n",
       "      <td>M</td>\n",
       "    </tr>\n",
       "    <tr>\n",
       "      <th>13840</th>\n",
       "      <td>4</td>\n",
       "      <td>\\r\\r\\n                    (\"Your life, so rare...</td>\n",
       "      <td>\\r\\r\\n\\r\\r\\n</td>\n",
       "      <td>George H. Dillon</td>\n",
       "      <td>NaN</td>\n",
       "      <td>NaN</td>\n",
       "    </tr>\n",
       "    <tr>\n",
       "      <th>13841</th>\n",
       "      <td>5</td>\n",
       "      <td>\\r\\r\\n                    (\"I think you are cl...</td>\n",
       "      <td>\\r\\r\\n\\r\\r\\n</td>\n",
       "      <td>George H. Dillon</td>\n",
       "      <td>NaN</td>\n",
       "      <td>NaN</td>\n",
       "    </tr>\n",
       "    <tr>\n",
       "      <th>13842</th>\n",
       "      <td>6</td>\n",
       "      <td>\\r\\r\\n                    (\"Yours is the Attic...</td>\n",
       "      <td>\\r\\r\\n\\r\\r\\n</td>\n",
       "      <td>George H. Dillon</td>\n",
       "      <td>NaN</td>\n",
       "      <td>NaN</td>\n",
       "    </tr>\n",
       "    <tr>\n",
       "      <th>13843</th>\n",
       "      <td>7</td>\n",
       "      <td>\\r\\r\\n                    Questions and Answer...</td>\n",
       "      <td>\\r\\r\\n\\r\\r\\n</td>\n",
       "      <td>John Wheelwright</td>\n",
       "      <td>NaN</td>\n",
       "      <td>NaN</td>\n",
       "    </tr>\n",
       "    <tr>\n",
       "      <th>13844</th>\n",
       "      <td>8</td>\n",
       "      <td>\\r\\r\\n                    This Fountainhead\\r\\...</td>\n",
       "      <td>\\r\\r\\n\\r\\r\\n</td>\n",
       "      <td>Ben Belitt</td>\n",
       "      <td>NaN</td>\n",
       "      <td>F</td>\n",
       "    </tr>\n",
       "    <tr>\n",
       "      <th>13845</th>\n",
       "      <td>9</td>\n",
       "      <td>\\r\\r\\n                    A Labyrinth of Being...</td>\n",
       "      <td>\\r\\r\\n\\r\\r\\n</td>\n",
       "      <td>R. P. Blackmur</td>\n",
       "      <td>NaN</td>\n",
       "      <td>NaN</td>\n",
       "    </tr>\n",
       "    <tr>\n",
       "      <th>13846</th>\n",
       "      <td>10</td>\n",
       "      <td>\\r\\r\\n                    Reflections\\r\\r\\n   ...</td>\n",
       "      <td>\\r\\r\\n\\r\\r\\n</td>\n",
       "      <td>Norman Macleod</td>\n",
       "      <td>NaN</td>\n",
       "      <td>NaN</td>\n",
       "    </tr>\n",
       "    <tr>\n",
       "      <th>13847</th>\n",
       "      <td>11</td>\n",
       "      <td>\\r\\r\\n                    So Ordered\\r\\r\\n    ...</td>\n",
       "      <td>\\r\\r\\n\\r\\r\\n</td>\n",
       "      <td>Merrill Moore</td>\n",
       "      <td>NaN</td>\n",
       "      <td>NaN</td>\n",
       "    </tr>\n",
       "    <tr>\n",
       "      <th>13848</th>\n",
       "      <td>12</td>\n",
       "      <td>\\r\\r\\n                    1 January 1965\\r\\r\\n...</td>\n",
       "      <td>\\r\\r\\nThe Wise Men will unlearn your name.\\r\\r...</td>\n",
       "      <td>Joseph Brodsky</td>\n",
       "      <td>Living,Death,Growing Old,Time &amp; Brevity,Nature...</td>\n",
       "      <td>F</td>\n",
       "    </tr>\n",
       "    <tr>\n",
       "      <th>13849</th>\n",
       "      <td>13</td>\n",
       "      <td>\\r\\r\\n                    1-800-FEAR\\r\\r\\n    ...</td>\n",
       "      <td>\\r\\r\\nWe'd  like  to  talk  with  you  about  ...</td>\n",
       "      <td>Jody Gladding</td>\n",
       "      <td>Living,Social Commentaries,Popular Culture</td>\n",
       "      <td>M</td>\n",
       "    </tr>\n",
       "    <tr>\n",
       "      <th>13850</th>\n",
       "      <td>14</td>\n",
       "      <td>\\r\\r\\n                    The Death of Atahual...</td>\n",
       "      <td>\\r\\r\\n\\r\\r\\n</td>\n",
       "      <td>William Jay Smith</td>\n",
       "      <td>NaN</td>\n",
       "      <td>NaN</td>\n",
       "    </tr>\n",
       "    <tr>\n",
       "      <th>13851</th>\n",
       "      <td>15</td>\n",
       "      <td>\\r\\r\\n                    Poet's Wish\\r\\r\\n   ...</td>\n",
       "      <td>\\r\\r\\n\\r\\r\\n</td>\n",
       "      <td>William Jay Smith</td>\n",
       "      <td>NaN</td>\n",
       "      <td>NaN</td>\n",
       "    </tr>\n",
       "    <tr>\n",
       "      <th>13852</th>\n",
       "      <td>0</td>\n",
       "      <td>\\r\\r\\n                    0\\r\\r\\n</td>\n",
       "      <td>\\r\\r\\n          Philosophic\\r\\r\\nin its comple...</td>\n",
       "      <td>Hailey Leithauser</td>\n",
       "      <td>Arts &amp; Sciences,Philosophy</td>\n",
       "      <td>F</td>\n",
       "    </tr>\n",
       "    <tr>\n",
       "      <th>13853</th>\n",
       "      <td>1</td>\n",
       "      <td>\\r\\r\\n                    !\\r\\r\\n</td>\n",
       "      <td>\\r\\r\\nDear Writers, I’m compiling the first in...</td>\n",
       "      <td>Wendy Videlock</td>\n",
       "      <td>Relationships,Gay, Lesbian, Queer,Arts &amp; Scien...</td>\n",
       "      <td>F</td>\n",
       "    </tr>\n",
       "  </tbody>\n",
       "</table>\n",
       "<p>13854 rows × 6 columns</p>\n",
       "</div>"
      ],
      "text/plain": [
       "       Unnamed: 0                                              Title  \\\n",
       "0               0  \\r\\r\\n                    Objects Used to Prop...   \n",
       "1               1  \\r\\r\\n                    The New Church\\r\\r\\n...   \n",
       "2               2  \\r\\r\\n                    Look for Me\\r\\r\\n   ...   \n",
       "3               3  \\r\\r\\n                    Wild Life\\r\\r\\n     ...   \n",
       "4               4  \\r\\r\\n                    Umbrella\\r\\r\\n      ...   \n",
       "5               5  \\r\\r\\n                    Sunday\\r\\r\\n        ...   \n",
       "6               6  \\r\\r\\n                    Invisible Fish\\r\\r\\n...   \n",
       "7               7  \\r\\r\\n                    Don’t Bother the Ear...   \n",
       "8               8  \\r\\r\\n                    The One Thing That C...   \n",
       "9               9  \\r\\r\\n                    [\"Hour in which I co...   \n",
       "10             10  \\r\\r\\n                    Stung\\r\\r\\n         ...   \n",
       "11             11  \\r\\r\\n                    Nothing But Good...\\...   \n",
       "12             12  \\r\\r\\n                    How Quiet\\r\\r\\n     ...   \n",
       "13             13  \\r\\r\\n                    Porcupine\\r\\r\\n     ...   \n",
       "14             14  \\r\\r\\n                    Summer Apples\\r\\r\\n ...   \n",
       "15             15  \\r\\r\\n                    Visiting the Neighbo...   \n",
       "16             16  \\r\\r\\n                    scars\\r\\r\\n         ...   \n",
       "17             17  \\r\\r\\n                    what remains two\\r\\r...   \n",
       "18             18  \\r\\r\\n                    West of Myself\\r\\r\\n...   \n",
       "19             19  \\r\\r\\n                    Yes\\r\\r\\n           ...   \n",
       "20             20  \\r\\r\\n                    Bounden Duty\\r\\r\\n  ...   \n",
       "21             21  \\r\\r\\n                    History\\r\\r\\n       ...   \n",
       "22             22  \\r\\r\\n                    What It Was Like\\r\\r...   \n",
       "23             23  \\r\\r\\n                    All\\r\\r\\n           ...   \n",
       "24             24  \\r\\r\\n                    Sleeping with Butler...   \n",
       "25             25  \\r\\r\\n                    Hoodlum Birds\\r\\r\\n ...   \n",
       "26             26  \\r\\r\\n                    Wilde's Tomb\\r\\r\\n  ...   \n",
       "27             27  \\r\\r\\n                    The Poem of Death\\r\\...   \n",
       "28             28  \\r\\r\\n                    The Innocents at San...   \n",
       "29             29  \\r\\r\\n                    Fiddlers at the Dese...   \n",
       "...           ...                                                ...   \n",
       "13824          10  \\r\\r\\n                    The Guru\\r\\r\\n      ...   \n",
       "13825          11  \\r\\r\\n                    Poem of Disconnected...   \n",
       "13826          12  \\r\\r\\n                    Stomackes\\r\\r\\n     ...   \n",
       "13827           0  \\r\\r\\n                    Poem on His Birthday...   \n",
       "13828           1  \\r\\r\\n                    Country Songs\\r\\r\\n ...   \n",
       "13829           2  \\r\\r\\n                    1 January 1965\\r\\r\\n...   \n",
       "13830           3  \\r\\r\\n                    1-800-FEAR\\r\\r\\n    ...   \n",
       "13831           0  \\r\\r\\n                    The Bean Eaters\\r\\r\\...   \n",
       "13832           1  \\r\\r\\n                    The Spider\\r\\r\\n    ...   \n",
       "13833           0  \\r\\r\\n                    The Distances\\r\\r\\n ...   \n",
       "13834           0  \\r\\r\\n                    0\\r\\r\\n                   \n",
       "13835           1  \\r\\r\\n                    !\\r\\r\\n                   \n",
       "13836           0  \\r\\r\\n                    Tinder and Flint\\r\\r...   \n",
       "13837           1  \\r\\r\\n                    Hospital Poems\\r\\r\\n...   \n",
       "13838           2  \\r\\r\\n                    Color of Dreams\\r\\r\\...   \n",
       "13839           3  \\r\\r\\n                    By Way of Contrast\\r...   \n",
       "13840           4  \\r\\r\\n                    (\"Your life, so rare...   \n",
       "13841           5  \\r\\r\\n                    (\"I think you are cl...   \n",
       "13842           6  \\r\\r\\n                    (\"Yours is the Attic...   \n",
       "13843           7  \\r\\r\\n                    Questions and Answer...   \n",
       "13844           8  \\r\\r\\n                    This Fountainhead\\r\\...   \n",
       "13845           9  \\r\\r\\n                    A Labyrinth of Being...   \n",
       "13846          10  \\r\\r\\n                    Reflections\\r\\r\\n   ...   \n",
       "13847          11  \\r\\r\\n                    So Ordered\\r\\r\\n    ...   \n",
       "13848          12  \\r\\r\\n                    1 January 1965\\r\\r\\n...   \n",
       "13849          13  \\r\\r\\n                    1-800-FEAR\\r\\r\\n    ...   \n",
       "13850          14  \\r\\r\\n                    The Death of Atahual...   \n",
       "13851          15  \\r\\r\\n                    Poet's Wish\\r\\r\\n   ...   \n",
       "13852           0  \\r\\r\\n                    0\\r\\r\\n                   \n",
       "13853           1  \\r\\r\\n                    !\\r\\r\\n                   \n",
       "\n",
       "                                                    Poem                 Poet  \\\n",
       "0      \\r\\r\\nDog bone, stapler,\\r\\r\\ncribbage board, ...     Michelle Menting   \n",
       "1      \\r\\r\\nThe old cupola glinted above the clouds,...        Lucia Cherciu   \n",
       "2      \\r\\r\\nLook for me under the hood\\r\\r\\nof that ...           Ted Kooser   \n",
       "3      \\r\\r\\nBehind the silo, the Mother Rabbit\\r\\r\\n...      Grace Cavalieri   \n",
       "4      \\r\\r\\nWhen I push your button\\r\\r\\nyou fly off...         Connie Wanek   \n",
       "5      \\r\\r\\nYou are the start of the week\\r\\r\\nor th...  January Gill O'Neil   \n",
       "6      \\r\\r\\nInvisible fish swim this ghost ocean now...            Joy Harjo   \n",
       "7      \\r\\r\\nDon’t bother the earth spirit who lives ...            Joy Harjo   \n",
       "8      \\r\\r\\nIs anything central?\\r\\r\\nOrchards flung...         John Ashbery   \n",
       "9      \\r\\r\\nHour in which I consider hydrangea, a sa...         Simone White   \n",
       "10     \\r\\r\\nShe couldn't help but sting my finger,\\r...      Heid E. Erdrich   \n",
       "11     \\r\\r\\nI will not speak ill of Jack Flick.\\r\\r\\...          Sarah White   \n",
       "12     \\r\\r\\nHow quiet is the spruce,\\r\\r\\nthe wind t...        Judith Harris   \n",
       "13     \\r\\r\\nYou think we are the pointed argument,\\r...        Kelly Madigan   \n",
       "14     \\r\\r\\nI planted an apple tree in memory\\r\\r\\no...     Cathryn Essinger   \n",
       "15     \\r\\r\\nThe entrance at the back of the complex\\...        P. Ivan Young   \n",
       "16     \\r\\r\\nmy father’s body is a map\\r\\r\\na record ...          Truong Tran   \n",
       "17     \\r\\r\\nit has long been forgotten this practice...          Truong Tran   \n",
       "18     \\r\\r\\nWhy are you still seventeen\\r\\r\\nand dri...        Debora Greger   \n",
       "19     \\r\\r\\n\\r\\r\\n\\r\\r\\n\\r\\r\\nYes, your childhood no...        Debora Greger   \n",
       "20     \\r\\r\\n               I got a call from the Whi...           James Tate   \n",
       "21     \\r\\r\\nOf course wars, of course lice, of cours...          Barbara Ras   \n",
       "22     \\r\\r\\nIf they ask what it was like, say it was...          Barbara Ras   \n",
       "23     \\r\\r\\nThe prisoner can’t go any longer, but he...          Barbara Ras   \n",
       "24     \\r\\r\\n\\r\\r\\n\\r\\r\\n\\r\\r\\nAfter Octavio Paz\\r\\r\\...        Eugene Gloria   \n",
       "25     \\r\\r\\nThe fearless blackbirds see me again\\r\\r...        Eugene Gloria   \n",
       "26     \\r\\r\\n\\r\\r\\n\\r\\r\\n\\r\\r\\nBut these, thy lovers ...      Michael Gessner   \n",
       "27     \\r\\r\\nThis is the poem of death.\\r\\r\\nThere is...      Michael Gessner   \n",
       "28     \\r\\r\\nNothing can reach you now, not lead or s...      Michael Gessner   \n",
       "29     \\r\\r\\nAmong physicians rich in their death wat...      Michael Gessner   \n",
       "...                                                  ...                  ...   \n",
       "13824  \\r\\r\\nHere comes the wise man in the story of ...         A. F. Moritz   \n",
       "13825  \\r\\r\\nAt Robben Island the political prisoners...        Robert Pinsky   \n",
       "13826  \\r\\r\\n\\r\\r\\n\\r\\r\\n\\r\\r\\nWe know far more about...     Albert Goldbarth   \n",
       "13827                                       \\r\\r\\n\\r\\r\\n         Dylan Thomas   \n",
       "13828                                       \\r\\r\\n\\r\\r\\n           Ben Belitt   \n",
       "13829  \\r\\r\\nThe Wise Men will unlearn your name.\\r\\r...       Joseph Brodsky   \n",
       "13830  \\r\\r\\nWe'd  like  to  talk  with  you  about  ...        Jody Gladding   \n",
       "13831  \\r\\r\\nThey eat beans mostly, this old yellow p...     Gwendolyn Brooks   \n",
       "13832  \\r\\r\\nI \\r\\r\\nThe spider expects the cold of w...     Richard Eberhart   \n",
       "13833  \\r\\r\\nThe accumulation of reefs\\r\\r\\npiling up...          Jim Carroll   \n",
       "13834  \\r\\r\\n          Philosophic\\r\\r\\nin its comple...    Hailey Leithauser   \n",
       "13835  \\r\\r\\nDear Writers, I’m compiling the first in...       Wendy Videlock   \n",
       "13836                                       \\r\\r\\n\\r\\r\\n        Lew R. Sarett   \n",
       "13837                                       \\r\\r\\n\\r\\r\\n        Merrill Moore   \n",
       "13838                                       \\r\\r\\n\\r\\r\\n        Witter Bynner   \n",
       "13839                                       \\r\\r\\n\\r\\r\\n      Babette Deutsch   \n",
       "13840                                       \\r\\r\\n\\r\\r\\n     George H. Dillon   \n",
       "13841                                       \\r\\r\\n\\r\\r\\n     George H. Dillon   \n",
       "13842                                       \\r\\r\\n\\r\\r\\n     George H. Dillon   \n",
       "13843                                       \\r\\r\\n\\r\\r\\n     John Wheelwright   \n",
       "13844                                       \\r\\r\\n\\r\\r\\n           Ben Belitt   \n",
       "13845                                       \\r\\r\\n\\r\\r\\n       R. P. Blackmur   \n",
       "13846                                       \\r\\r\\n\\r\\r\\n       Norman Macleod   \n",
       "13847                                       \\r\\r\\n\\r\\r\\n        Merrill Moore   \n",
       "13848  \\r\\r\\nThe Wise Men will unlearn your name.\\r\\r...       Joseph Brodsky   \n",
       "13849  \\r\\r\\nWe'd  like  to  talk  with  you  about  ...        Jody Gladding   \n",
       "13850                                       \\r\\r\\n\\r\\r\\n    William Jay Smith   \n",
       "13851                                       \\r\\r\\n\\r\\r\\n    William Jay Smith   \n",
       "13852  \\r\\r\\n          Philosophic\\r\\r\\nin its comple...    Hailey Leithauser   \n",
       "13853  \\r\\r\\nDear Writers, I’m compiling the first in...       Wendy Videlock   \n",
       "\n",
       "                                                    Tags gender  \n",
       "0                                                    NaN      F  \n",
       "1                                                    NaN      F  \n",
       "2                                                    NaN      M  \n",
       "3                                                    NaN      F  \n",
       "4                                                    NaN      F  \n",
       "5                                                    NaN      F  \n",
       "6      Living,Time & Brevity,Relationships,Family & A...      F  \n",
       "7      Religion,The Spiritual,Mythology & Folklore,Fa...      F  \n",
       "8                                                    NaN      M  \n",
       "9      Living,Parenthood,The Body,The Mind,Nature,Tre...      F  \n",
       "10                                                   NaN      F  \n",
       "11                                                   NaN      F  \n",
       "12                                                   NaN      F  \n",
       "13                                                   NaN      F  \n",
       "14                                                   NaN      F  \n",
       "15                                                   NaN      M  \n",
       "16                           The Body,Family & Ancestors      F  \n",
       "17                           Infancy,Parenthood,The Body      F  \n",
       "18                                         Coming of Age      F  \n",
       "19                                   Coming of Age,Youth      F  \n",
       "20                     Humor & Satire,History & Politics      M  \n",
       "21                     History & Politics,War & Conflict      F  \n",
       "22                                     Money & Economics      F  \n",
       "23                            Life Choices,Faith & Doubt      F  \n",
       "24                 Language & Linguistics,Poetry & Poets      M  \n",
       "25                                               Animals      M  \n",
       "26                                        Poetry & Poets      M  \n",
       "27                                                 Death      M  \n",
       "28                                     Sorrow & Grieving      M  \n",
       "29                               Death,Sorrow & Grieving      M  \n",
       "...                                                  ...    ...  \n",
       "13824  Religion,Arts & Sciences,Humor & Satire,Social...      F  \n",
       "13825  Religion,Other Religions,The Spiritual,Arts & ...      F  \n",
       "13826  Activities,Eating & Drinking,Religion,Christia...      M  \n",
       "13827                                                NaN    NaN  \n",
       "13828                                                NaN      F  \n",
       "13829  Living,Death,Growing Old,Time & Brevity,Nature...      F  \n",
       "13830         Living,Social Commentaries,Popular Culture      M  \n",
       "13831  Living,Growing Old,Marriage & Companionship,Re...      M  \n",
       "13832  Nature,Animals,Seas, Rivers, & Streams,Summer,...      M  \n",
       "13833                                                NaN    NaN  \n",
       "13834                         Arts & Sciences,Philosophy      F  \n",
       "13835  Relationships,Gay, Lesbian, Queer,Arts & Scien...      F  \n",
       "13836                                                NaN    NaN  \n",
       "13837                                                NaN    NaN  \n",
       "13838                                                NaN    NaN  \n",
       "13839                                                NaN      M  \n",
       "13840                                                NaN    NaN  \n",
       "13841                                                NaN    NaN  \n",
       "13842                                                NaN    NaN  \n",
       "13843                                                NaN    NaN  \n",
       "13844                                                NaN      F  \n",
       "13845                                                NaN    NaN  \n",
       "13846                                                NaN    NaN  \n",
       "13847                                                NaN    NaN  \n",
       "13848  Living,Death,Growing Old,Time & Brevity,Nature...      F  \n",
       "13849         Living,Social Commentaries,Popular Culture      M  \n",
       "13850                                                NaN    NaN  \n",
       "13851                                                NaN    NaN  \n",
       "13852                         Arts & Sciences,Philosophy      F  \n",
       "13853  Relationships,Gay, Lesbian, Queer,Arts & Scien...      F  \n",
       "\n",
       "[13854 rows x 6 columns]"
      ]
     },
     "execution_count": 256,
     "metadata": {},
     "output_type": "execute_result"
    }
   ],
   "source": [
    "data_fin = pd.merge(data, df, on = \"Poet\", how = \"left\")\n",
    "data_fin"
   ]
  },
  {
   "cell_type": "code",
   "execution_count": 9,
   "metadata": {},
   "outputs": [],
   "source": [
    "import re\n",
    "for n in range(0,13854):\n",
    "    data_fin.loc[n, 'Title']=re.sub('[\\r\\n]',' ',data_fin.loc[n, 'Title']).strip()\n",
    "    data_fin.loc[n, 'Poem']=re.sub('[\\r\\n]',' ',data_fin.loc[n, 'Poem']).strip()"
   ]
  },
  {
   "cell_type": "code",
   "execution_count": 10,
   "metadata": {},
   "outputs": [],
   "source": [
    "data_fin2 = data_fin[data_fin['Poem'] != '']"
   ]
  },
  {
   "cell_type": "code",
   "execution_count": 11,
   "metadata": {},
   "outputs": [],
   "source": [
    "data_fin3 = data_fin2.drop('Unnamed: 0',axis=1)"
   ]
  },
  {
   "cell_type": "code",
   "execution_count": 12,
   "metadata": {},
   "outputs": [
    {
     "data": {
      "text/plain": [
       "13753"
      ]
     },
     "execution_count": 12,
     "metadata": {},
     "output_type": "execute_result"
    }
   ],
   "source": [
    "len(data_fin3)"
   ]
  },
  {
   "cell_type": "code",
   "execution_count": 13,
   "metadata": {},
   "outputs": [
    {
     "name": "stdout",
     "output_type": "stream",
     "text": [
      "Dog bone, stapler,   cribbage board, garlic press        because this window is loose—lacks   suction, lacks grip.   Bungee cord, bootstrap,   dog leash, leather belt        because this window had sash cords.   They frayed. They broke.   Feather duster, thatch of straw, empty   bottle of Elmer's glue        because this window is loud—its hinges clack   open, clack shut.   Stuffed bear, baby blanket,   single crib newel        because this window is split. It's dividing   in two.   Velvet moss, sagebrush,   willow branch, robin's wing        because this window, it's pane-less. It's only   a frame of air.\n"
     ]
    }
   ],
   "source": [
    "#data 확인하기\n",
    "print(data_fin3['Poem'][0])"
   ]
  },
  {
   "cell_type": "code",
   "execution_count": 14,
   "metadata": {},
   "outputs": [],
   "source": [
    "final = data_fin3.reset_index(drop = True)"
   ]
  },
  {
   "cell_type": "code",
   "execution_count": 61,
   "metadata": {},
   "outputs": [],
   "source": [
    "for n in range(0, len(final)):\n",
    "    letters_only = re.sub(\"[^a-zA-Z]\",  \" \", final[\"Poem\"][n])"
   ]
  },
  {
   "cell_type": "code",
   "execution_count": 16,
   "metadata": {},
   "outputs": [
    {
     "name": "stdout",
     "output_type": "stream",
     "text": [
      "['dear', 'writers', 'i', 'm', 'compiling', 'the', 'first', 'in', 'what', 'i', 'hope', 'is', 'a', 'series', 'of', 'publications', 'i', 'm', 'calling', 'artists', 'among', 'artists', 'the', 'theme', 'for', 'issue', 'is', 'faggot', 'dinosaur', 'i', 'hope', 'to', 'hear', 'from', 'you', 'thank', 'you', 'and', 'best', 'wishes']\n"
     ]
    }
   ],
   "source": [
    "lower_case = letters_only.lower() # 글자를 모두 소문자로 변형합니다.\n",
    "words = lower_case.split() # 문자열을 특정문자 기준으로 분리하여 리스트에 저장(default: 공백)\n",
    "\n",
    "print(words)"
   ]
  },
  {
   "cell_type": "code",
   "execution_count": 17,
   "metadata": {},
   "outputs": [
    {
     "name": "stdout",
     "output_type": "stream",
     "text": [
      "['i', 'me', 'my', 'myself', 'we', 'our', 'ours', 'ourselves', 'you', \"you're\", \"you've\", \"you'll\", \"you'd\", 'your', 'yours', 'yourself', 'yourselves', 'he', 'him', 'his', 'himself', 'she', \"she's\", 'her', 'hers', 'herself', 'it', \"it's\", 'its', 'itself', 'they', 'them', 'their', 'theirs', 'themselves', 'what', 'which', 'who', 'whom', 'this', 'that', \"that'll\", 'these', 'those', 'am', 'is', 'are', 'was', 'were', 'be', 'been', 'being', 'have', 'has', 'had', 'having', 'do', 'does', 'did', 'doing', 'a', 'an', 'the', 'and', 'but', 'if', 'or', 'because', 'as', 'until', 'while', 'of', 'at', 'by', 'for', 'with', 'about', 'against', 'between', 'into', 'through', 'during', 'before', 'after', 'above', 'below', 'to', 'from', 'up', 'down', 'in', 'out', 'on', 'off', 'over', 'under', 'again', 'further', 'then', 'once', 'here', 'there', 'when', 'where', 'why', 'how', 'all', 'any', 'both', 'each', 'few', 'more', 'most', 'other', 'some', 'such', 'no', 'nor', 'not', 'only', 'own', 'same', 'so', 'than', 'too', 'very', 's', 't', 'can', 'will', 'just', 'don', \"don't\", 'should', \"should've\", 'now', 'd', 'll', 'm', 'o', 're', 've', 'y', 'ain', 'aren', \"aren't\", 'couldn', \"couldn't\", 'didn', \"didn't\", 'doesn', \"doesn't\", 'hadn', \"hadn't\", 'hasn', \"hasn't\", 'haven', \"haven't\", 'isn', \"isn't\", 'ma', 'mightn', \"mightn't\", 'mustn', \"mustn't\", 'needn', \"needn't\", 'shan', \"shan't\", 'shouldn', \"shouldn't\", 'wasn', \"wasn't\", 'weren', \"weren't\", 'won', \"won't\", 'wouldn', \"wouldn't\"]\n"
     ]
    },
    {
     "name": "stderr",
     "output_type": "stream",
     "text": [
      "[nltk_data] Downloading package stopwords to C:\\Users\\Hwang\n",
      "[nltk_data]     Daye\\AppData\\Roaming\\nltk_data...\n",
      "[nltk_data]   Package stopwords is already up-to-date!\n"
     ]
    }
   ],
   "source": [
    "import nltk\n",
    "nltk.download('stopwords')\n",
    "from nltk.corpus import stopwords # 자연어 처리 라이브러리 nltk에서 stopwords가져오기\n",
    "print(stopwords.words(\"english\"))\n",
    "\n",
    "# stopwords는 텍스트 데이터의 내용에 영향을 미치지 않는 불용어입니다."
   ]
  },
  {
   "cell_type": "code",
   "execution_count": 18,
   "metadata": {},
   "outputs": [
    {
     "name": "stdout",
     "output_type": "stream",
     "text": [
      "['dear', 'writers', 'compiling', 'first', 'hope', 'series', 'publications', 'calling', 'artists', 'among', 'artists', 'theme', 'issue', 'faggot', 'dinosaur', 'hope', 'hear', 'thank', 'best', 'wishes']\n"
     ]
    }
   ],
   "source": [
    "words = [w for w in words if not w in stopwords.words(\"english\")]\n",
    "print(words)"
   ]
  },
  {
   "cell_type": "code",
   "execution_count": 19,
   "metadata": {},
   "outputs": [],
   "source": [
    "result = \" \".join(words) #stopwords가 제거된 문자리스트를 공백 기준으로 병합"
   ]
  },
  {
   "cell_type": "code",
   "execution_count": 20,
   "metadata": {},
   "outputs": [],
   "source": [
    "def review_to_words(data):\n",
    "    # 수집한 데이터를 정규화된 문자 리스트로 변환해주는 함수\n",
    "    # 입력: 문자열(수집한 리뷰 데이터)\n",
    "    # 출력: 문자열(정규화된 리뷰 데이터(단어), 공백으로 구분)\n",
    "    # stopwords를 제거하고 싶지 않다면, 5, 6번 과정을 제거합니다.\n",
    "    \n",
    "    #2. 문장부호 제거하기\n",
    "    letters_only = re.sub(\"[^a-zA-Z]\", \" \", data)\n",
    "    \n",
    "    #3. 소문자화 시키기(대문자 제거하기)\n",
    "    words = letters_only.lower()\n",
    "    \n",
    "    #4. 리스트로 변경(공백을 기준으로 리스트로 바꾸기)\n",
    "    words =  words.split()\n",
    "    \n",
    "    #5. set으로 변환(파이썬에서 set의 검색속도가 list보다 빠르기 때문에 set으로 변환)\n",
    "    # {set}: 리스트와 동일하나, 중복과 순서가 없다.\n",
    "    stops = set(stopwords.words(\"english\"))\n",
    "    \n",
    "    #6. 문자 리스트에서 stopwords를 제거\n",
    "    meaningful_words = [w for w in words if not w in stops]\n",
    "    \n",
    "    #7. stopwords가 제거된 문자리스트를 공백 기준으로 병합\n",
    "    result = \" \".join(meaningful_words)\n",
    "    \n",
    "    return result"
   ]
  },
  {
   "cell_type": "markdown",
   "metadata": {},
   "source": [
    "## 성별 시각화"
   ]
  },
  {
   "cell_type": "code",
   "execution_count": 21,
   "metadata": {},
   "outputs": [],
   "source": [
    "import matplotlib.pyplot as plt\n",
    "import seaborn as sns\n",
    "sns.set()"
   ]
  },
  {
   "cell_type": "code",
   "execution_count": 22,
   "metadata": {},
   "outputs": [
    {
     "data": {
      "text/plain": [
       "<BarContainer object of 2 artists>"
      ]
     },
     "execution_count": 22,
     "metadata": {},
     "output_type": "execute_result"
    },
    {
     "data": {
      "image/png": "[encoded data removed]",
      "text/plain": [
       "<Figure size 432x288 with 1 Axes>"
      ]
     },
     "metadata": {
      "needs_background": "light"
     },
     "output_type": "display_data"
    }
   ],
   "source": [
    "x = ['male', 'female']\n",
    "y = [len(final[final[\"gender\"]=='M']), len(final[final[\"gender\"]=='F'])]\n",
    "plt.bar(x, y, width = 0.7, color = ['orange', 'royalblue'])"
   ]
  },
  {
   "cell_type": "markdown",
   "metadata": {},
   "source": [
    "## fillNA  :M으로 대체"
   ]
  },
  {
   "cell_type": "code",
   "execution_count": 23,
   "metadata": {},
   "outputs": [],
   "source": [
    "final[\"gender\"] = final[\"gender\"].fillna(value = 'M')"
   ]
  },
  {
   "cell_type": "markdown",
   "metadata": {},
   "source": [
    "## data 쪼개기"
   ]
  },
  {
   "cell_type": "code",
   "execution_count": 24,
   "metadata": {},
   "outputs": [],
   "source": [
    "from sklearn.model_selection import train_test_split\n",
    "\n",
    "x_train, x_test, y_train, y_test = train_test_split(final['Poem'], final['gender'])"
   ]
  },
  {
   "cell_type": "code",
   "execution_count": 25,
   "metadata": {},
   "outputs": [
    {
     "name": "stdout",
     "output_type": "stream",
     "text": [
      "10314 3439 10314 3439\n"
     ]
    }
   ],
   "source": [
    "print(len(x_train), len(x_test), len(y_train), len(y_test))"
   ]
  },
  {
   "cell_type": "code",
   "execution_count": 26,
   "metadata": {},
   "outputs": [],
   "source": [
    "x_train = x_train.reset_index(drop = True)\n",
    "x_test = x_test.reset_index(drop = True)\n",
    "y_train = y_train.reset_index(drop = True)\n",
    "y_test = y_test.reset_index(drop = True)"
   ]
  },
  {
   "cell_type": "markdown",
   "metadata": {},
   "source": [
    "## data 정제"
   ]
  },
  {
   "cell_type": "code",
   "execution_count": 27,
   "metadata": {},
   "outputs": [],
   "source": [
    "# 해당하는 텍스트 데이터를 정제해줍니다.\n",
    "clean_poem = review_to_words(x_train[0])"
   ]
  },
  {
   "cell_type": "code",
   "execution_count": 28,
   "metadata": {},
   "outputs": [
    {
     "name": "stdout",
     "output_type": "stream",
     "text": [
      "Poem 1000 of 10314\n",
      "Poem 2000 of 10314\n",
      "Poem 3000 of 10314\n",
      "Poem 4000 of 10314\n",
      "Poem 5000 of 10314\n",
      "Poem 6000 of 10314\n",
      "Poem 7000 of 10314\n",
      "Poem 8000 of 10314\n",
      "Poem 9000 of 10314\n",
      "Poem 10000 of 10314\n"
     ]
    }
   ],
   "source": [
    "# 데이터의 갯수를 저장한다.(\"review\"데이터의 갯수)\n",
    "num_poem = x_train.size\n",
    "\n",
    "# 정규화된 데이터를 저장하기 위한 리스트 초기화\n",
    "clean_train_poem = list()\n",
    "\n",
    "# 데이터의 갯수만큼 반복하며 모든 기사데이터를 정규화합니다.\n",
    "for i in range(num_poem):\n",
    "    # 1,000개 단위로 현재 정규화 진행상황 출력\n",
    "    if (i+1)%1000 == 0:\n",
    "        print(\"Poem {0} of {1}\".format(i+1, num_poem))\n",
    "    clean_train_poem.append(review_to_words(x_train[i]))"
   ]
  },
  {
   "cell_type": "code",
   "execution_count": 29,
   "metadata": {},
   "outputs": [
    {
     "name": "stdout",
     "output_type": "stream",
     "text": [
      "Creating the bag of words...\n"
     ]
    }
   ],
   "source": [
    "print(\"Creating the bag of words...\")\n",
    "from sklearn.feature_extraction.text import CountVectorizer\n",
    "\n",
    "# CountVectorizer는 scikit-learn의 bag of words 구현 도구입니다.\n",
    "# CountVectorizer 오브젝트를 초기화합니다.\n",
    "\n",
    "vectorizer = CountVectorizer(analyzer=\"word\",\n",
    "                             tokenizer=None,\n",
    "                             preprocessor=None,\n",
    "                             stop_words=None,\n",
    "                             max_features=50)\n",
    "# max_features: 텍스트 분석에 활용할 최대 단어의 수를 결정해줍니다. 너무 많으면 과적합될 가능성이 있음\n",
    "\n",
    "# fit_transform()은 두가지 역할을 수행합니다.\n",
    "# 첫번째. 단어를 학습시킵니다.\n",
    "# 두번째. training data를 feature vector로 변환합니다.\n",
    "# 입력값은 문자열 리스트여야만 합니다.\n",
    "train_data_features = vectorizer.fit_transform(clean_train_poem)\n",
    "# feature vector를 array형태로 변환해줍니다.\n",
    "# 향 후에 NUMPY를 활용하기 위해서는 array 형태로 변환해주는 것이 유리합니다.\n",
    "# 연산속도가 매우 빨라집니다.\n",
    "train_data_features = train_data_features.toarray()"
   ]
  },
  {
   "cell_type": "code",
   "execution_count": 30,
   "metadata": {},
   "outputs": [
    {
     "name": "stdout",
     "output_type": "stream",
     "text": [
      "(10314, 50)\n"
     ]
    }
   ],
   "source": [
    "print(train_data_features.shape)"
   ]
  },
  {
   "cell_type": "code",
   "execution_count": 31,
   "metadata": {},
   "outputs": [
    {
     "name": "stdout",
     "output_type": "stream",
     "text": [
      "['away', 'back', 'black', 'come', 'could', 'day', 'even', 'eyes', 'face', 'first', 'go', 'god', 'hand', 'heart', 'know', 'last', 'let', 'life', 'light', 'like', 'little', 'long', 'love', 'made', 'make', 'man', 'may', 'men', 'never', 'night', 'nothing', 'old', 'one', 'said', 'say', 'see', 'still', 'sun', 'thou', 'though', 'thy', 'time', 'two', 'us', 'water', 'way', 'white', 'world', 'would', 'yet']\n"
     ]
    }
   ],
   "source": [
    "# 생성된 feature(단어 확인하기) 선택\n",
    "vocab = vectorizer.get_feature_names()\n",
    "print(vocab)"
   ]
  },
  {
   "cell_type": "code",
   "execution_count": 32,
   "metadata": {
    "scrolled": true
   },
   "outputs": [
    {
     "data": {
      "text/html": [
       "<div>\n",
       "<style scoped>\n",
       "    .dataframe tbody tr th:only-of-type {\n",
       "        vertical-align: middle;\n",
       "    }\n",
       "\n",
       "    .dataframe tbody tr th {\n",
       "        vertical-align: top;\n",
       "    }\n",
       "\n",
       "    .dataframe thead th {\n",
       "        text-align: right;\n",
       "    }\n",
       "</style>\n",
       "<table border=\"1\" class=\"dataframe\">\n",
       "  <thead>\n",
       "    <tr style=\"text-align: right;\">\n",
       "      <th></th>\n",
       "      <th>vocab</th>\n",
       "      <th>count</th>\n",
       "    </tr>\n",
       "  </thead>\n",
       "  <tbody>\n",
       "    <tr>\n",
       "      <th>0</th>\n",
       "      <td>away</td>\n",
       "      <td>2319</td>\n",
       "    </tr>\n",
       "    <tr>\n",
       "      <th>1</th>\n",
       "      <td>back</td>\n",
       "      <td>3837</td>\n",
       "    </tr>\n",
       "    <tr>\n",
       "      <th>2</th>\n",
       "      <td>black</td>\n",
       "      <td>2253</td>\n",
       "    </tr>\n",
       "    <tr>\n",
       "      <th>3</th>\n",
       "      <td>come</td>\n",
       "      <td>2884</td>\n",
       "    </tr>\n",
       "    <tr>\n",
       "      <th>4</th>\n",
       "      <td>could</td>\n",
       "      <td>3573</td>\n",
       "    </tr>\n",
       "    <tr>\n",
       "      <th>5</th>\n",
       "      <td>day</td>\n",
       "      <td>3549</td>\n",
       "    </tr>\n",
       "    <tr>\n",
       "      <th>6</th>\n",
       "      <td>even</td>\n",
       "      <td>2580</td>\n",
       "    </tr>\n",
       "    <tr>\n",
       "      <th>7</th>\n",
       "      <td>eyes</td>\n",
       "      <td>3086</td>\n",
       "    </tr>\n",
       "    <tr>\n",
       "      <th>8</th>\n",
       "      <td>face</td>\n",
       "      <td>2258</td>\n",
       "    </tr>\n",
       "    <tr>\n",
       "      <th>9</th>\n",
       "      <td>first</td>\n",
       "      <td>2366</td>\n",
       "    </tr>\n",
       "    <tr>\n",
       "      <th>10</th>\n",
       "      <td>go</td>\n",
       "      <td>2663</td>\n",
       "    </tr>\n",
       "    <tr>\n",
       "      <th>11</th>\n",
       "      <td>god</td>\n",
       "      <td>2560</td>\n",
       "    </tr>\n",
       "    <tr>\n",
       "      <th>12</th>\n",
       "      <td>hand</td>\n",
       "      <td>2264</td>\n",
       "    </tr>\n",
       "    <tr>\n",
       "      <th>13</th>\n",
       "      <td>heart</td>\n",
       "      <td>2535</td>\n",
       "    </tr>\n",
       "    <tr>\n",
       "      <th>14</th>\n",
       "      <td>know</td>\n",
       "      <td>3664</td>\n",
       "    </tr>\n",
       "    <tr>\n",
       "      <th>15</th>\n",
       "      <td>last</td>\n",
       "      <td>2145</td>\n",
       "    </tr>\n",
       "    <tr>\n",
       "      <th>16</th>\n",
       "      <td>let</td>\n",
       "      <td>2710</td>\n",
       "    </tr>\n",
       "    <tr>\n",
       "      <th>17</th>\n",
       "      <td>life</td>\n",
       "      <td>3233</td>\n",
       "    </tr>\n",
       "    <tr>\n",
       "      <th>18</th>\n",
       "      <td>light</td>\n",
       "      <td>3439</td>\n",
       "    </tr>\n",
       "    <tr>\n",
       "      <th>19</th>\n",
       "      <td>like</td>\n",
       "      <td>11428</td>\n",
       "    </tr>\n",
       "    <tr>\n",
       "      <th>20</th>\n",
       "      <td>little</td>\n",
       "      <td>2595</td>\n",
       "    </tr>\n",
       "    <tr>\n",
       "      <th>21</th>\n",
       "      <td>long</td>\n",
       "      <td>3060</td>\n",
       "    </tr>\n",
       "    <tr>\n",
       "      <th>22</th>\n",
       "      <td>love</td>\n",
       "      <td>4482</td>\n",
       "    </tr>\n",
       "    <tr>\n",
       "      <th>23</th>\n",
       "      <td>made</td>\n",
       "      <td>2446</td>\n",
       "    </tr>\n",
       "    <tr>\n",
       "      <th>24</th>\n",
       "      <td>make</td>\n",
       "      <td>2169</td>\n",
       "    </tr>\n",
       "    <tr>\n",
       "      <th>25</th>\n",
       "      <td>man</td>\n",
       "      <td>3634</td>\n",
       "    </tr>\n",
       "    <tr>\n",
       "      <th>26</th>\n",
       "      <td>may</td>\n",
       "      <td>2118</td>\n",
       "    </tr>\n",
       "    <tr>\n",
       "      <th>27</th>\n",
       "      <td>men</td>\n",
       "      <td>2126</td>\n",
       "    </tr>\n",
       "    <tr>\n",
       "      <th>28</th>\n",
       "      <td>never</td>\n",
       "      <td>3226</td>\n",
       "    </tr>\n",
       "    <tr>\n",
       "      <th>29</th>\n",
       "      <td>night</td>\n",
       "      <td>3652</td>\n",
       "    </tr>\n",
       "    <tr>\n",
       "      <th>30</th>\n",
       "      <td>nothing</td>\n",
       "      <td>2192</td>\n",
       "    </tr>\n",
       "    <tr>\n",
       "      <th>31</th>\n",
       "      <td>old</td>\n",
       "      <td>3002</td>\n",
       "    </tr>\n",
       "    <tr>\n",
       "      <th>32</th>\n",
       "      <td>one</td>\n",
       "      <td>9012</td>\n",
       "    </tr>\n",
       "    <tr>\n",
       "      <th>33</th>\n",
       "      <td>said</td>\n",
       "      <td>3104</td>\n",
       "    </tr>\n",
       "    <tr>\n",
       "      <th>34</th>\n",
       "      <td>say</td>\n",
       "      <td>2983</td>\n",
       "    </tr>\n",
       "    <tr>\n",
       "      <th>35</th>\n",
       "      <td>see</td>\n",
       "      <td>3615</td>\n",
       "    </tr>\n",
       "    <tr>\n",
       "      <th>36</th>\n",
       "      <td>still</td>\n",
       "      <td>3500</td>\n",
       "    </tr>\n",
       "    <tr>\n",
       "      <th>37</th>\n",
       "      <td>sun</td>\n",
       "      <td>2125</td>\n",
       "    </tr>\n",
       "    <tr>\n",
       "      <th>38</th>\n",
       "      <td>thou</td>\n",
       "      <td>2279</td>\n",
       "    </tr>\n",
       "    <tr>\n",
       "      <th>39</th>\n",
       "      <td>though</td>\n",
       "      <td>2310</td>\n",
       "    </tr>\n",
       "    <tr>\n",
       "      <th>40</th>\n",
       "      <td>thy</td>\n",
       "      <td>2905</td>\n",
       "    </tr>\n",
       "    <tr>\n",
       "      <th>41</th>\n",
       "      <td>time</td>\n",
       "      <td>3958</td>\n",
       "    </tr>\n",
       "    <tr>\n",
       "      <th>42</th>\n",
       "      <td>two</td>\n",
       "      <td>2331</td>\n",
       "    </tr>\n",
       "    <tr>\n",
       "      <th>43</th>\n",
       "      <td>us</td>\n",
       "      <td>4663</td>\n",
       "    </tr>\n",
       "    <tr>\n",
       "      <th>44</th>\n",
       "      <td>water</td>\n",
       "      <td>2318</td>\n",
       "    </tr>\n",
       "    <tr>\n",
       "      <th>45</th>\n",
       "      <td>way</td>\n",
       "      <td>3009</td>\n",
       "    </tr>\n",
       "    <tr>\n",
       "      <th>46</th>\n",
       "      <td>white</td>\n",
       "      <td>2582</td>\n",
       "    </tr>\n",
       "    <tr>\n",
       "      <th>47</th>\n",
       "      <td>world</td>\n",
       "      <td>2981</td>\n",
       "    </tr>\n",
       "    <tr>\n",
       "      <th>48</th>\n",
       "      <td>would</td>\n",
       "      <td>4139</td>\n",
       "    </tr>\n",
       "    <tr>\n",
       "      <th>49</th>\n",
       "      <td>yet</td>\n",
       "      <td>2575</td>\n",
       "    </tr>\n",
       "  </tbody>\n",
       "</table>\n",
       "</div>"
      ],
      "text/plain": [
       "      vocab  count\n",
       "0      away   2319\n",
       "1      back   3837\n",
       "2     black   2253\n",
       "3      come   2884\n",
       "4     could   3573\n",
       "5       day   3549\n",
       "6      even   2580\n",
       "7      eyes   3086\n",
       "8      face   2258\n",
       "9     first   2366\n",
       "10       go   2663\n",
       "11      god   2560\n",
       "12     hand   2264\n",
       "13    heart   2535\n",
       "14     know   3664\n",
       "15     last   2145\n",
       "16      let   2710\n",
       "17     life   3233\n",
       "18    light   3439\n",
       "19     like  11428\n",
       "20   little   2595\n",
       "21     long   3060\n",
       "22     love   4482\n",
       "23     made   2446\n",
       "24     make   2169\n",
       "25      man   3634\n",
       "26      may   2118\n",
       "27      men   2126\n",
       "28    never   3226\n",
       "29    night   3652\n",
       "30  nothing   2192\n",
       "31      old   3002\n",
       "32      one   9012\n",
       "33     said   3104\n",
       "34      say   2983\n",
       "35      see   3615\n",
       "36    still   3500\n",
       "37      sun   2125\n",
       "38     thou   2279\n",
       "39   though   2310\n",
       "40      thy   2905\n",
       "41     time   3958\n",
       "42      two   2331\n",
       "43       us   4663\n",
       "44    water   2318\n",
       "45      way   3009\n",
       "46    white   2582\n",
       "47    world   2981\n",
       "48    would   4139\n",
       "49      yet   2575"
      ]
     },
     "execution_count": 32,
     "metadata": {},
     "output_type": "execute_result"
    }
   ],
   "source": [
    "# 생성된 featrue의 갯수 확인하기(25,000개 텍스트 전체)\n",
    "dist = np.sum(train_data_features, axis=0)\n",
    "\n",
    "# training set에 포함되어있는 단어와 빈도를 출력합니다.\n",
    "# zip: 크기가 같은 두 리스트를 합쳐주는 역할을 합니다.\n",
    "\n",
    "feature_cnt = pd.DataFrame({\n",
    "    'vocab':vocab,\n",
    "    'count':dist\n",
    "})\n",
    "feature_cnt"
   ]
  },
  {
   "cell_type": "markdown",
   "metadata": {},
   "source": [
    "# random forest"
   ]
  },
  {
   "cell_type": "code",
   "execution_count": 33,
   "metadata": {},
   "outputs": [
    {
     "name": "stdout",
     "output_type": "stream",
     "text": [
      "Training the random forest...\n",
      "Complete Learning\n"
     ]
    }
   ],
   "source": [
    "# RandomForest모델을 활용하여 분류하기!!\n",
    "print(\"Training the random forest...\")\n",
    "from sklearn.ensemble import RandomForestClassifier\n",
    "\n",
    "# Random Forest 분류기를 100가지 트리로 초기화합니다.\n",
    "forest = RandomForestClassifier(n_estimators=100)\n",
    "\n",
    "# forest를 training set으로 학습시키고 bag of words를 feature로\n",
    "# gender을 종속 변수로 설정합니다.\n",
    "\n",
    "# 실행하는데 시간이 소요됩니다.\n",
    "forest = forest.fit(train_data_features, y_train)\n",
    "print(\"Complete Learning\")"
   ]
  },
  {
   "cell_type": "code",
   "execution_count": 34,
   "metadata": {},
   "outputs": [],
   "source": [
    "# 빈 리스트를 만들어서 처리된 poem를 저장합니다.\n",
    "num_poem = len(x_test)\n",
    "clean_test_poem = list()"
   ]
  },
  {
   "cell_type": "code",
   "execution_count": 35,
   "metadata": {
    "scrolled": true
   },
   "outputs": [
    {
     "name": "stdout",
     "output_type": "stream",
     "text": [
      "Cleaning and parsing the test set movie reviews...\n",
      "\n",
      "Poem 1000 of 3439\n",
      "Poem 2000 of 3439\n",
      "Poem 3000 of 3439\n",
      "Prediting with the random forest...\n",
      "Complete Prediction\n"
     ]
    }
   ],
   "source": [
    "# review data 정규화하기\n",
    "print(\"Cleaning and parsing the test set movie reviews...\\n\")\n",
    "\n",
    "for i in range(num_poem):\n",
    "    if (i+1)%1000 == 0:\n",
    "        print(\"Poem {} of {}\".format(i+1, num_poem))\n",
    "        \n",
    "    clean_poem = review_to_words(x_test[i])\n",
    "    clean_test_poem.append(clean_poem)\n",
    "    \n",
    "# test set의 bag of words를 구해서 array로 저장합니다.\n",
    "test_data_features = vectorizer.transform(clean_test_poem)\n",
    "test_data_features = test_data_features.toarray()\n",
    "\n",
    "# Random Forest를 사용하여 sentiment label을 예측합니다.\n",
    "print(\"Prediting with the random forest...\")\n",
    "result = forest.predict(test_data_features)\n",
    "print(\"Complete Prediction\")"
   ]
  },
  {
   "cell_type": "code",
   "execution_count": 36,
   "metadata": {},
   "outputs": [],
   "source": [
    "from sklearn.neighbors import KNeighborsClassifier\n",
    "from sklearn.model_selection import KFold\n",
    "from sklearn.model_selection import cross_val_score\n",
    "k_fold = KFold(n_splits=10, shuffle=True, random_state=0)"
   ]
  },
  {
   "cell_type": "code",
   "execution_count": 93,
   "metadata": {},
   "outputs": [],
   "source": [
    "score_rf = forest.score(train_data_features, y_train)"
   ]
  },
  {
   "cell_type": "code",
   "execution_count": 94,
   "metadata": {},
   "outputs": [
    {
     "name": "stdout",
     "output_type": "stream",
     "text": [
      "[0.53391473 0.53391473 0.5377907  0.53391473 0.53152279 0.54704171\n",
      " 0.55771096 0.53249273 0.5499515  0.52958293]\n"
     ]
    }
   ],
   "source": [
    "clf = forest\n",
    "scoring = 'accuracy'\n",
    "score1_rf = cross_val_score(clf, train_data_features, y_train, cv=k_fold, n_jobs=1, scoring=scoring)\n",
    "print(score1)"
   ]
  },
  {
   "cell_type": "code",
   "execution_count": 95,
   "metadata": {},
   "outputs": [],
   "source": [
    "score2_rf = forest.score(test_data_features, y_test)"
   ]
  },
  {
   "cell_type": "code",
   "execution_count": 96,
   "metadata": {},
   "outputs": [
    {
     "name": "stdout",
     "output_type": "stream",
     "text": [
      "train score:  97.2 , train cv score:  55.29 , test score:  55.1\n"
     ]
    }
   ],
   "source": [
    "print(\"train score: \", round(score_rf*100, 2),\n",
    "      \", train cv score: \", round(np.mean(score1_rf)*100, 2),\n",
    "      \", test score: \", round(score2_rf*100, 2))"
   ]
  },
  {
   "cell_type": "markdown",
   "metadata": {},
   "source": [
    "# KNN"
   ]
  },
  {
   "cell_type": "code",
   "execution_count": 97,
   "metadata": {},
   "outputs": [
    {
     "name": "stdout",
     "output_type": "stream",
     "text": [
      "[0.53391473 0.53391473 0.5377907  0.53391473 0.53152279 0.54704171\n",
      " 0.55771096 0.53249273 0.5499515  0.52958293]\n"
     ]
    }
   ],
   "source": [
    "clf = KNeighborsClassifier(n_neighbors = 32)\n",
    "scoring = 'accuracy'\n",
    "score1_knn = cross_val_score(clf, train_data_features, y_train, cv=k_fold, n_jobs=1, scoring=scoring)\n",
    "print(score1)"
   ]
  },
  {
   "cell_type": "code",
   "execution_count": 98,
   "metadata": {},
   "outputs": [],
   "source": [
    "clf = clf.fit(train_data_features, y_train)"
   ]
  },
  {
   "cell_type": "code",
   "execution_count": 99,
   "metadata": {},
   "outputs": [],
   "source": [
    "score_knn = clf.score(train_data_features, y_train)\n",
    "score2_knn = clf.score(test_data_features, y_test)"
   ]
  },
  {
   "cell_type": "code",
   "execution_count": 101,
   "metadata": {},
   "outputs": [
    {
     "name": "stdout",
     "output_type": "stream",
     "text": [
      "train score:  59.3 , train cv score:  53.88 , test score:  54.26\n"
     ]
    }
   ],
   "source": [
    "print(\"train score: \", round(score_knn*100, 2),\n",
    "      \", train cv score: \", round(np.mean(score1_knn)*100, 2),\n",
    "      \", test score: \", round(score2_knn*100, 2))"
   ]
  },
  {
   "cell_type": "markdown",
   "metadata": {},
   "source": [
    "## 별도_knn optimal k 찾기"
   ]
  },
  {
   "cell_type": "code",
   "execution_count": 86,
   "metadata": {},
   "outputs": [
    {
     "data": {
      "text/plain": [
       "[0.5159957100925717,\n",
       " 0.525790057951381,\n",
       " 0.5282114096485288,\n",
       " 0.5326749830661549,\n",
       " 0.5341237675923834,\n",
       " 0.528605403778129,\n",
       " 0.5326768646045007,\n",
       " 0.53403232482878,\n",
       " 0.5357778279521337,\n",
       " 0.5389739971400618,\n",
       " 0.5346129675622788,\n",
       " 0.5434400165575374,\n",
       " 0.5410120794761796,\n",
       " 0.5431476254986076,\n",
       " 0.5382966433355911]"
      ]
     },
     "execution_count": 86,
     "metadata": {},
     "output_type": "execute_result"
    }
   ],
   "source": [
    "cross_validation_scores = []\n",
    "test_scores = []\n",
    "\n",
    "k_list = []\n",
    "for i in range(3, 33, 2):\n",
    "    k_list.append(i)\n",
    "\n",
    "for k in k_list:\n",
    "    knn = KNeighborsClassifier(n_neighbors=k)\n",
    "    scores = cross_val_score(knn, train_data_features, y_train,\n",
    "                             cv=10, scoring='accuracy')\n",
    "    cross_validation_scores.append(scores.mean())\n",
    "\n",
    "cross_validation_scores"
   ]
  },
  {
   "cell_type": "code",
   "execution_count": 87,
   "metadata": {},
   "outputs": [
    {
     "data": {
      "text/plain": [
       "[0.5219540564117476,\n",
       " 0.5315498691480082,\n",
       " 0.5408548996801396,\n",
       " 0.5385286420471067,\n",
       " 0.5306775225356208,\n",
       " 0.5350392555975574,\n",
       " 0.5327129979645245,\n",
       " 0.5379470776388485,\n",
       " 0.5306775225356208,\n",
       " 0.5335853445769119,\n",
       " 0.539400988659494,\n",
       " 0.5391102064553649,\n",
       " 0.5388194242512359,\n",
       " 0.5440535039255597,\n",
       " 0.5414364640883977]"
      ]
     },
     "execution_count": 87,
     "metadata": {},
     "output_type": "execute_result"
    }
   ],
   "source": [
    "for k in k_list:\n",
    "    knn = KNeighborsClassifier(n_neighbors=k)\n",
    "    knn = knn.fit(train_data_features, y_train)\n",
    "    test = knn.score(test_data_features, y_test)\n",
    "    test_scores.append(test.mean())\n",
    "test_scores"
   ]
  },
  {
   "cell_type": "code",
   "execution_count": 88,
   "metadata": {},
   "outputs": [
    {
     "data": {
      "image/png": "[encoded data removed]",
      "text/plain": [
       "<Figure size 432x288 with 1 Axes>"
      ]
     },
     "metadata": {
      "needs_background": "light"
     },
     "output_type": "display_data"
    }
   ],
   "source": [
    "plt.plot(k_list, cross_validation_scores)\n",
    "plt.xlabel('the number of k')\n",
    "plt.ylabel('Accuracy')\n",
    "plt.title('optimal k')\n",
    "\n",
    "plt.plot(k_list, test_scores)\n",
    "plt.legend(['cv', 'test'])\n",
    "plt.show()"
   ]
  },
  {
   "cell_type": "markdown",
   "metadata": {},
   "source": [
    "### k = 32로 결정"
   ]
  },
  {
   "cell_type": "markdown",
   "metadata": {},
   "source": [
    "# Naive Bayes"
   ]
  },
  {
   "cell_type": "code",
   "execution_count": 45,
   "metadata": {},
   "outputs": [],
   "source": [
    "from sklearn.naive_bayes import GaussianNB"
   ]
  },
  {
   "cell_type": "code",
   "execution_count": 102,
   "metadata": {},
   "outputs": [
    {
     "name": "stdout",
     "output_type": "stream",
     "text": [
      "[0.46317829 0.45542636 0.4622093  0.4370155  0.49175558 0.471387\n",
      " 0.46362755 0.45780795 0.42095053 0.45877789]\n"
     ]
    }
   ],
   "source": [
    "clf = GaussianNB()\n",
    "scoring = 'accuracy'\n",
    "score1_nb = cross_val_score(clf, train_data_features, y_train, cv=k_fold, n_jobs=1, scoring=scoring)\n",
    "print(score1_nb)"
   ]
  },
  {
   "cell_type": "code",
   "execution_count": 103,
   "metadata": {},
   "outputs": [],
   "source": [
    "clf = clf.fit(train_data_features, y_train)"
   ]
  },
  {
   "cell_type": "code",
   "execution_count": 104,
   "metadata": {},
   "outputs": [],
   "source": [
    "score_nb = clf.score(train_data_features, y_train)\n",
    "score2_nb = clf.score(test_data_features, y_test)"
   ]
  },
  {
   "cell_type": "code",
   "execution_count": 105,
   "metadata": {},
   "outputs": [
    {
     "name": "stdout",
     "output_type": "stream",
     "text": [
      "train score:  45.94 , train cv score:  45.82 , test score:  44.64\n"
     ]
    }
   ],
   "source": [
    "print(\"train score: \", round(score_nb*100, 2),\n",
    "      \", train cv score: \", round(np.mean(score1_nb)*100, 2),\n",
    "      \", test score: \", round(score2_nb*100, 2))"
   ]
  },
  {
   "cell_type": "markdown",
   "metadata": {},
   "source": [
    "# SVC"
   ]
  },
  {
   "cell_type": "code",
   "execution_count": 50,
   "metadata": {},
   "outputs": [],
   "source": [
    "from sklearn.svm import SVC"
   ]
  },
  {
   "cell_type": "code",
   "execution_count": 106,
   "metadata": {},
   "outputs": [
    {
     "name": "stdout",
     "output_type": "stream",
     "text": [
      "[0.57267442 0.5755814  0.58333333 0.58624031 0.54316198 0.57516974\n",
      " 0.58486906 0.56353055 0.61105723 0.57613967]\n"
     ]
    }
   ],
   "source": [
    "clf = SVC(gamma='auto')\n",
    "scoring = 'accuracy'\n",
    "score1_sv = cross_val_score(clf, train_data_features, y_train, cv=k_fold, n_jobs=1, scoring=scoring)\n",
    "print(score1_sv)"
   ]
  },
  {
   "cell_type": "code",
   "execution_count": 107,
   "metadata": {},
   "outputs": [],
   "source": [
    "clf = clf.fit(train_data_features, y_train)"
   ]
  },
  {
   "cell_type": "code",
   "execution_count": 108,
   "metadata": {},
   "outputs": [],
   "source": [
    "score_sv = clf.score(train_data_features, y_train)\n",
    "score2_sv = clf.score(test_data_features, y_test)"
   ]
  },
  {
   "cell_type": "code",
   "execution_count": 109,
   "metadata": {},
   "outputs": [
    {
     "name": "stdout",
     "output_type": "stream",
     "text": [
      "train score:  61.2 , train cv score:  57.72 , test score:  58.24\n"
     ]
    }
   ],
   "source": [
    "print(\"train score: \", round(score_sv*100, 2),\n",
    "      \", train cv score: \", round(np.mean(score1_sv)*100, 2),\n",
    "      \", test score: \", round(score2_sv*100, 2))"
   ]
  },
  {
   "cell_type": "markdown",
   "metadata": {},
   "source": [
    "# AdaBoost Regressor"
   ]
  },
  {
   "cell_type": "code",
   "execution_count": 55,
   "metadata": {},
   "outputs": [],
   "source": [
    "from sklearn.tree import DecisionTreeClassifier\n",
    "from sklearn.ensemble import AdaBoostClassifier"
   ]
  },
  {
   "cell_type": "code",
   "execution_count": 110,
   "metadata": {},
   "outputs": [],
   "source": [
    "ada_clf = AdaBoostClassifier(\n",
    "        DecisionTreeClassifier(max_depth = 1), n_estimators = 200, \n",
    "        algorithm = \"SAMME.R\", learning_rate = 0.5)"
   ]
  },
  {
   "cell_type": "code",
   "execution_count": 111,
   "metadata": {
    "scrolled": false
   },
   "outputs": [
    {
     "name": "stdout",
     "output_type": "stream",
     "text": [
      "[0.5755814  0.5620155  0.57751938 0.58430233 0.53928225 0.57032008\n",
      " 0.57032008 0.56159069 0.60038797 0.57516974]\n"
     ]
    }
   ],
   "source": [
    "scoring = 'accuracy'\n",
    "score1_ab = cross_val_score(ada_clf, train_data_features, y_train, cv=k_fold, n_jobs=1, scoring=scoring)\n",
    "print(score1_ab)"
   ]
  },
  {
   "cell_type": "code",
   "execution_count": 112,
   "metadata": {},
   "outputs": [],
   "source": [
    "ada_clf = ada_clf.fit(train_data_features, y_train)\n",
    "score_ab = ada_clf.score(train_data_features, y_train)\n",
    "score2_ab = ada_clf.score(test_data_features, y_test)"
   ]
  },
  {
   "cell_type": "code",
   "execution_count": 113,
   "metadata": {},
   "outputs": [
    {
     "name": "stdout",
     "output_type": "stream",
     "text": [
      "train score:  59.07 , train cv score:  57.16 , test score:  57.55\n"
     ]
    }
   ],
   "source": [
    "print(\"train score: \", round(score_ab*100, 2),\n",
    "      \", train cv score: \", round(np.mean(score1_ab)*100, 2),\n",
    "      \", test score: \", round(score2_ab*100, 2))"
   ]
  },
  {
   "cell_type": "markdown",
   "metadata": {},
   "source": [
    "# 결과 요약"
   ]
  },
  {
   "cell_type": "code",
   "execution_count": 139,
   "metadata": {},
   "outputs": [],
   "source": [
    "train_scores = [score_rf, score_knn, score_nb, score_sv, score_ab]\n",
    "cv_scroes = [np.mean(score1_rf), np.mean(score1_knn), np.mean(score1_nb), np.mean(score1_sv), np.mean(score1_ab)]\n",
    "test_scores = [score2_rf, score2_knn,  score2_nb, score2_sv, score2_ab]"
   ]
  },
  {
   "cell_type": "code",
   "execution_count": 246,
   "metadata": {},
   "outputs": [],
   "source": [
    "methods = ['RF', 'KNN', 'Bayes', 'SVC', 'Boost'] *3"
   ]
  },
  {
   "cell_type": "code",
   "execution_count": 247,
   "metadata": {},
   "outputs": [],
   "source": [
    "df = pd.DataFrame({'accuracy': train_scores + cv_scroes + test_scores,\n",
    "                  'score': ['train', 'train', 'train', 'train', 'train',\n",
    "                            'cv', 'cv', 'cv', 'cv', 'cv', \n",
    "                            'test', 'test', 'test', 'test', 'test']},\n",
    "                  index = methods)"
   ]
  },
  {
   "cell_type": "code",
   "execution_count": 147,
   "metadata": {},
   "outputs": [],
   "source": [
    "import seaborn as sns\n",
    "sns.set()"
   ]
  },
  {
   "cell_type": "code",
   "execution_count": 244,
   "metadata": {},
   "outputs": [
    {
     "data": {
      "text/plain": [
       "<matplotlib.axes._subplots.AxesSubplot at 0x1b661afc438>"
      ]
     },
     "execution_count": 244,
     "metadata": {},
     "output_type": "execute_result"
    },
    {
     "data": {
      "image/png": "[encoded data removed]",
      "text/plain": [
       "<Figure size 432x288 with 1 Axes>"
      ]
     },
     "metadata": {},
     "output_type": "display_data"
    }
   ],
   "source": [
    "sns.barplot(data= df, x = methods, y = 'accuracy', hue = 'score')"
   ]
  },
  {
   "cell_type": "markdown",
   "metadata": {},
   "source": [
    "# END"
   ]
  }
 ],
 "metadata": {
  "kernelspec": {
   "display_name": "Python 3",
   "language": "python",
   "name": "python3"
  },
  "language_info": {
   "codemirror_mode": {
    "name": "ipython",
    "version": 3
   },
   "file_extension": ".py",
   "mimetype": "text/x-python",
   "name": "python",
   "nbconvert_exporter": "python",
   "pygments_lexer": "ipython3",
   "version": "3.7.1"
  }
 },
 "nbformat": 4,
 "nbformat_minor": 2
}
