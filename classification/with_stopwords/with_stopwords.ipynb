{
 "cells": [
  {
   "cell_type": "code",
   "execution_count": 1,
   "metadata": {},
   "outputs": [],
   "source": [
    "import pandas as pd"
   ]
  },
  {
   "cell_type": "code",
   "execution_count": 2,
   "metadata": {},
   "outputs": [],
   "source": [
    "import numpy as np"
   ]
  },
  {
   "cell_type": "markdown",
   "metadata": {},
   "source": [
    "## 1. 데이터 불러오기 / 병합하기"
   ]
  },
  {
   "cell_type": "markdown",
   "metadata": {},
   "source": [
    "#### poem 데이터를 불러오자"
   ]
  },
  {
   "cell_type": "code",
   "execution_count": 3,
   "metadata": {},
   "outputs": [],
   "source": [
    "df = pd.read_csv(\"PoetryFoundationData.csv\")"
   ]
  },
  {
   "cell_type": "markdown",
   "metadata": {},
   "source": [
    "출처:kaggle data (poem data from Poetry Foundation)"
   ]
  },
  {
   "cell_type": "code",
   "execution_count": 4,
   "metadata": {},
   "outputs": [
    {
     "data": {
      "text/html": [
       "<div>\n",
       "<style scoped>\n",
       "    .dataframe tbody tr th:only-of-type {\n",
       "        vertical-align: middle;\n",
       "    }\n",
       "\n",
       "    .dataframe tbody tr th {\n",
       "        vertical-align: top;\n",
       "    }\n",
       "\n",
       "    .dataframe thead th {\n",
       "        text-align: right;\n",
       "    }\n",
       "</style>\n",
       "<table border=\"1\" class=\"dataframe\">\n",
       "  <thead>\n",
       "    <tr style=\"text-align: right;\">\n",
       "      <th></th>\n",
       "      <th>Unnamed: 0</th>\n",
       "      <th>Title</th>\n",
       "      <th>Poem</th>\n",
       "      <th>Poet</th>\n",
       "      <th>Tags</th>\n",
       "    </tr>\n",
       "  </thead>\n",
       "  <tbody>\n",
       "    <tr>\n",
       "      <th>0</th>\n",
       "      <td>0</td>\n",
       "      <td>\\r\\r\\n                    Objects Used to Prop...</td>\n",
       "      <td>\\r\\r\\nDog bone, stapler,\\r\\r\\ncribbage board, ...</td>\n",
       "      <td>Michelle Menting</td>\n",
       "      <td>NaN</td>\n",
       "    </tr>\n",
       "    <tr>\n",
       "      <th>1</th>\n",
       "      <td>1</td>\n",
       "      <td>\\r\\r\\n                    The New Church\\r\\r\\n...</td>\n",
       "      <td>\\r\\r\\nThe old cupola glinted above the clouds,...</td>\n",
       "      <td>Lucia Cherciu</td>\n",
       "      <td>NaN</td>\n",
       "    </tr>\n",
       "    <tr>\n",
       "      <th>2</th>\n",
       "      <td>2</td>\n",
       "      <td>\\r\\r\\n                    Look for Me\\r\\r\\n   ...</td>\n",
       "      <td>\\r\\r\\nLook for me under the hood\\r\\r\\nof that ...</td>\n",
       "      <td>Ted Kooser</td>\n",
       "      <td>NaN</td>\n",
       "    </tr>\n",
       "    <tr>\n",
       "      <th>3</th>\n",
       "      <td>3</td>\n",
       "      <td>\\r\\r\\n                    Wild Life\\r\\r\\n     ...</td>\n",
       "      <td>\\r\\r\\nBehind the silo, the Mother Rabbit\\r\\r\\n...</td>\n",
       "      <td>Grace Cavalieri</td>\n",
       "      <td>NaN</td>\n",
       "    </tr>\n",
       "    <tr>\n",
       "      <th>4</th>\n",
       "      <td>4</td>\n",
       "      <td>\\r\\r\\n                    Umbrella\\r\\r\\n      ...</td>\n",
       "      <td>\\r\\r\\nWhen I push your button\\r\\r\\nyou fly off...</td>\n",
       "      <td>Connie Wanek</td>\n",
       "      <td>NaN</td>\n",
       "    </tr>\n",
       "  </tbody>\n",
       "</table>\n",
       "</div>"
      ],
      "text/plain": [
       "   Unnamed: 0                                              Title  \\\n",
       "0           0  \\r\\r\\n                    Objects Used to Prop...   \n",
       "1           1  \\r\\r\\n                    The New Church\\r\\r\\n...   \n",
       "2           2  \\r\\r\\n                    Look for Me\\r\\r\\n   ...   \n",
       "3           3  \\r\\r\\n                    Wild Life\\r\\r\\n     ...   \n",
       "4           4  \\r\\r\\n                    Umbrella\\r\\r\\n      ...   \n",
       "\n",
       "                                                Poem              Poet Tags  \n",
       "0  \\r\\r\\nDog bone, stapler,\\r\\r\\ncribbage board, ...  Michelle Menting  NaN  \n",
       "1  \\r\\r\\nThe old cupola glinted above the clouds,...     Lucia Cherciu  NaN  \n",
       "2  \\r\\r\\nLook for me under the hood\\r\\r\\nof that ...        Ted Kooser  NaN  \n",
       "3  \\r\\r\\nBehind the silo, the Mother Rabbit\\r\\r\\n...   Grace Cavalieri  NaN  \n",
       "4  \\r\\r\\nWhen I push your button\\r\\r\\nyou fly off...      Connie Wanek  NaN  "
      ]
     },
     "execution_count": 4,
     "metadata": {},
     "output_type": "execute_result"
    }
   ],
   "source": [
    "df.head()"
   ]
  },
  {
   "cell_type": "markdown",
   "metadata": {},
   "source": [
    "Title/ Poem / Poet / Tags columns가 있다. 우리는 시의 내용(Poem)과 시인의 성별(Poet-> gender)에 대한 관련성을 살펴보고 싶다."
   ]
  },
  {
   "cell_type": "code",
   "execution_count": 5,
   "metadata": {},
   "outputs": [
    {
     "data": {
      "text/plain": [
       "(13854, 5)"
      ]
     },
     "execution_count": 5,
     "metadata": {},
     "output_type": "execute_result"
    }
   ],
   "source": [
    "df.shape"
   ]
  },
  {
   "cell_type": "markdown",
   "metadata": {},
   "source": [
    "각 row는 unique한 시의 개수이므로 13854개의 시가 있다는 것을 알 수 있다."
   ]
  },
  {
   "cell_type": "code",
   "execution_count": 6,
   "metadata": {},
   "outputs": [
    {
     "name": "stdout",
     "output_type": "stream",
     "text": [
      "<class 'pandas.core.frame.DataFrame'>\n",
      "RangeIndex: 13854 entries, 0 to 13853\n",
      "Data columns (total 5 columns):\n",
      "Unnamed: 0    13854 non-null int64\n",
      "Title         13854 non-null object\n",
      "Poem          13854 non-null object\n",
      "Poet          13854 non-null object\n",
      "Tags          12899 non-null object\n",
      "dtypes: int64(1), object(4)\n",
      "memory usage: 541.2+ KB\n"
     ]
    }
   ],
   "source": [
    "df.info()"
   ]
  },
  {
   "cell_type": "markdown",
   "metadata": {},
   "source": [
    "우리는 이 데이터 셋과 별도로 시인의 성별에 대한 정보를 수집해야한다. 따라서 이를 위해 df의 unique한 poets들을 추출해낸다."
   ]
  },
  {
   "cell_type": "code",
   "execution_count": 7,
   "metadata": {},
   "outputs": [],
   "source": [
    "df_poet = pd.DataFrame({'Poet':df['Poet'].unique()})"
   ]
  },
  {
   "cell_type": "code",
   "execution_count": 8,
   "metadata": {},
   "outputs": [
    {
     "data": {
      "text/plain": [
       "3128"
      ]
     },
     "execution_count": 8,
     "metadata": {},
     "output_type": "execute_result"
    }
   ],
   "source": [
    "len(df_poet) "
   ]
  },
  {
   "cell_type": "markdown",
   "metadata": {},
   "source": [
    "3128명의 시인이 있음을 알 수 있다. 자료수집을 위해 poet을 csv파일로 추출한다. "
   ]
  },
  {
   "cell_type": "code",
   "execution_count": 9,
   "metadata": {},
   "outputs": [],
   "source": [
    "submit = pd.DataFrame({\n",
    "    'POET' : df['Poet'].unique(),   \n",
    "})\n",
    "\n",
    "submit.to_csv('poet.csv', index = False )"
   ]
  },
  {
   "cell_type": "markdown",
   "metadata": {},
   "source": [
    "#### poet's gender 데이터를 읽어오자"
   ]
  },
  {
   "cell_type": "markdown",
   "metadata": {},
   "source": [
    "gender데이터는 검색을 통해 수집하였다. "
   ]
  },
  {
   "cell_type": "code",
   "execution_count": 10,
   "metadata": {},
   "outputs": [],
   "source": [
    "gender = pd.read_csv('gender.csv')"
   ]
  },
  {
   "cell_type": "markdown",
   "metadata": {},
   "source": [
    "Poet과 gender가 병합된 df를 만든다. 이렇게 하는 이유는 csv를 읽고 쓰는 과정에 문자가 깨지기 때문"
   ]
  },
  {
   "cell_type": "code",
   "execution_count": 11,
   "metadata": {},
   "outputs": [],
   "source": [
    "poet = pd.concat([df_poet.reset_index(drop=True), gender], axis=1)"
   ]
  },
  {
   "cell_type": "code",
   "execution_count": 12,
   "metadata": {},
   "outputs": [
    {
     "data": {
      "text/html": [
       "<div>\n",
       "<style scoped>\n",
       "    .dataframe tbody tr th:only-of-type {\n",
       "        vertical-align: middle;\n",
       "    }\n",
       "\n",
       "    .dataframe tbody tr th {\n",
       "        vertical-align: top;\n",
       "    }\n",
       "\n",
       "    .dataframe thead th {\n",
       "        text-align: right;\n",
       "    }\n",
       "</style>\n",
       "<table border=\"1\" class=\"dataframe\">\n",
       "  <thead>\n",
       "    <tr style=\"text-align: right;\">\n",
       "      <th></th>\n",
       "      <th>Poet</th>\n",
       "      <th>gender</th>\n",
       "    </tr>\n",
       "  </thead>\n",
       "  <tbody>\n",
       "    <tr>\n",
       "      <th>0</th>\n",
       "      <td>Michelle Menting</td>\n",
       "      <td>F</td>\n",
       "    </tr>\n",
       "    <tr>\n",
       "      <th>1</th>\n",
       "      <td>Lucia Cherciu</td>\n",
       "      <td>F</td>\n",
       "    </tr>\n",
       "    <tr>\n",
       "      <th>2</th>\n",
       "      <td>Ted Kooser</td>\n",
       "      <td>M</td>\n",
       "    </tr>\n",
       "    <tr>\n",
       "      <th>3</th>\n",
       "      <td>Grace Cavalieri</td>\n",
       "      <td>F</td>\n",
       "    </tr>\n",
       "    <tr>\n",
       "      <th>4</th>\n",
       "      <td>Connie Wanek</td>\n",
       "      <td>F</td>\n",
       "    </tr>\n",
       "  </tbody>\n",
       "</table>\n",
       "</div>"
      ],
      "text/plain": [
       "               Poet gender\n",
       "0  Michelle Menting      F\n",
       "1     Lucia Cherciu      F\n",
       "2        Ted Kooser      M\n",
       "3   Grace Cavalieri      F\n",
       "4      Connie Wanek      F"
      ]
     },
     "execution_count": 12,
     "metadata": {},
     "output_type": "execute_result"
    }
   ],
   "source": [
    "poet.head()"
   ]
  },
  {
   "cell_type": "markdown",
   "metadata": {},
   "source": [
    "#### Gender 데이터와 Poets 데이터를 Merge해보자"
   ]
  },
  {
   "cell_type": "code",
   "execution_count": 13,
   "metadata": {},
   "outputs": [],
   "source": [
    "df2 = pd.merge(df, poet, on = \"Poet\", how = \"left\") ## poet에 대해 Gender을 merge해주세요"
   ]
  },
  {
   "cell_type": "code",
   "execution_count": 14,
   "metadata": {},
   "outputs": [
    {
     "data": {
      "text/html": [
       "<div>\n",
       "<style scoped>\n",
       "    .dataframe tbody tr th:only-of-type {\n",
       "        vertical-align: middle;\n",
       "    }\n",
       "\n",
       "    .dataframe tbody tr th {\n",
       "        vertical-align: top;\n",
       "    }\n",
       "\n",
       "    .dataframe thead th {\n",
       "        text-align: right;\n",
       "    }\n",
       "</style>\n",
       "<table border=\"1\" class=\"dataframe\">\n",
       "  <thead>\n",
       "    <tr style=\"text-align: right;\">\n",
       "      <th></th>\n",
       "      <th>Unnamed: 0</th>\n",
       "      <th>Title</th>\n",
       "      <th>Poem</th>\n",
       "      <th>Poet</th>\n",
       "      <th>Tags</th>\n",
       "      <th>gender</th>\n",
       "    </tr>\n",
       "  </thead>\n",
       "  <tbody>\n",
       "    <tr>\n",
       "      <th>0</th>\n",
       "      <td>0</td>\n",
       "      <td>\\r\\r\\n                    Objects Used to Prop...</td>\n",
       "      <td>\\r\\r\\nDog bone, stapler,\\r\\r\\ncribbage board, ...</td>\n",
       "      <td>Michelle Menting</td>\n",
       "      <td>NaN</td>\n",
       "      <td>F</td>\n",
       "    </tr>\n",
       "    <tr>\n",
       "      <th>1</th>\n",
       "      <td>1</td>\n",
       "      <td>\\r\\r\\n                    The New Church\\r\\r\\n...</td>\n",
       "      <td>\\r\\r\\nThe old cupola glinted above the clouds,...</td>\n",
       "      <td>Lucia Cherciu</td>\n",
       "      <td>NaN</td>\n",
       "      <td>F</td>\n",
       "    </tr>\n",
       "    <tr>\n",
       "      <th>2</th>\n",
       "      <td>2</td>\n",
       "      <td>\\r\\r\\n                    Look for Me\\r\\r\\n   ...</td>\n",
       "      <td>\\r\\r\\nLook for me under the hood\\r\\r\\nof that ...</td>\n",
       "      <td>Ted Kooser</td>\n",
       "      <td>NaN</td>\n",
       "      <td>M</td>\n",
       "    </tr>\n",
       "    <tr>\n",
       "      <th>3</th>\n",
       "      <td>3</td>\n",
       "      <td>\\r\\r\\n                    Wild Life\\r\\r\\n     ...</td>\n",
       "      <td>\\r\\r\\nBehind the silo, the Mother Rabbit\\r\\r\\n...</td>\n",
       "      <td>Grace Cavalieri</td>\n",
       "      <td>NaN</td>\n",
       "      <td>F</td>\n",
       "    </tr>\n",
       "    <tr>\n",
       "      <th>4</th>\n",
       "      <td>4</td>\n",
       "      <td>\\r\\r\\n                    Umbrella\\r\\r\\n      ...</td>\n",
       "      <td>\\r\\r\\nWhen I push your button\\r\\r\\nyou fly off...</td>\n",
       "      <td>Connie Wanek</td>\n",
       "      <td>NaN</td>\n",
       "      <td>F</td>\n",
       "    </tr>\n",
       "  </tbody>\n",
       "</table>\n",
       "</div>"
      ],
      "text/plain": [
       "   Unnamed: 0                                              Title  \\\n",
       "0           0  \\r\\r\\n                    Objects Used to Prop...   \n",
       "1           1  \\r\\r\\n                    The New Church\\r\\r\\n...   \n",
       "2           2  \\r\\r\\n                    Look for Me\\r\\r\\n   ...   \n",
       "3           3  \\r\\r\\n                    Wild Life\\r\\r\\n     ...   \n",
       "4           4  \\r\\r\\n                    Umbrella\\r\\r\\n      ...   \n",
       "\n",
       "                                                Poem              Poet Tags  \\\n",
       "0  \\r\\r\\nDog bone, stapler,\\r\\r\\ncribbage board, ...  Michelle Menting  NaN   \n",
       "1  \\r\\r\\nThe old cupola glinted above the clouds,...     Lucia Cherciu  NaN   \n",
       "2  \\r\\r\\nLook for me under the hood\\r\\r\\nof that ...        Ted Kooser  NaN   \n",
       "3  \\r\\r\\nBehind the silo, the Mother Rabbit\\r\\r\\n...   Grace Cavalieri  NaN   \n",
       "4  \\r\\r\\nWhen I push your button\\r\\r\\nyou fly off...      Connie Wanek  NaN   \n",
       "\n",
       "  gender  \n",
       "0      F  \n",
       "1      F  \n",
       "2      M  \n",
       "3      F  \n",
       "4      F  "
      ]
     },
     "execution_count": 14,
     "metadata": {},
     "output_type": "execute_result"
    }
   ],
   "source": [
    "df2.head()"
   ]
  },
  {
   "cell_type": "markdown",
   "metadata": {},
   "source": [
    "## 2. 데이터 전처리하기"
   ]
  },
  {
   "cell_type": "markdown",
   "metadata": {},
   "source": [
    "### [2- 1] Poem 전처리하기"
   ]
  },
  {
   "cell_type": "markdown",
   "metadata": {},
   "source": [
    "우리가 분석에서 사용할 정보는 Poem과 Gender이다. 육안으로 보기에도 Poem에  불필요한 문자들이 보인다. 이를 제거해주자. "
   ]
  },
  {
   "cell_type": "code",
   "execution_count": 15,
   "metadata": {},
   "outputs": [
    {
     "data": {
      "text/plain": [
       "13854"
      ]
     },
     "execution_count": 15,
     "metadata": {},
     "output_type": "execute_result"
    }
   ],
   "source": [
    "len(df2)"
   ]
  },
  {
   "cell_type": "code",
   "execution_count": 16,
   "metadata": {},
   "outputs": [],
   "source": [
    "import re\n",
    "for n in range(0,13854):\n",
    "    df2.loc[n, 'Title'] = re.sub('[\\r\\n]',' ',df2.loc[n, 'Title']).strip()\n",
    "    df2.loc[n, 'Poem'] = re.sub('[\\r\\n]',' ',df2.loc[n, 'Poem']).strip()\n",
    "    ###주의할 것은 ' '이 아니라 ''로 대체할 경우에는 단어들이 붙어버려서 추후 분석에 어려움을 겪을 수 있다는 점이다. "
   ]
  },
  {
   "cell_type": "code",
   "execution_count": 17,
   "metadata": {},
   "outputs": [
    {
     "data": {
      "text/plain": [
       "0    Dog bone, stapler,   cribbage board, garlic pr...\n",
       "1    The old cupola glinted above the clouds, shone...\n",
       "2    Look for me under the hood   of that old Chevr...\n",
       "3    Behind the silo, the Mother Rabbit   hunches l...\n",
       "4    When I push your button   you fly off the hand...\n",
       "Name: Poem, dtype: object"
      ]
     },
     "execution_count": 17,
     "metadata": {},
     "output_type": "execute_result"
    }
   ],
   "source": [
    "df2['Poem'] .head()"
   ]
  },
  {
   "cell_type": "markdown",
   "metadata": {},
   "source": [
    "빈칸처럼 보이는 행들이 있어 제대로 들여다 보았다. 원래 데이터에서도 시의 내용이 누락되어있음을 알 수 있다. 이러한 데이터들을 분석에서 제외하기로 한다."
   ]
  },
  {
   "cell_type": "code",
   "execution_count": 18,
   "metadata": {},
   "outputs": [
    {
     "data": {
      "text/plain": [
       "101"
      ]
     },
     "execution_count": 18,
     "metadata": {},
     "output_type": "execute_result"
    }
   ],
   "source": [
    "len(df2[df2['Poem'] == '']) ## poem이 누락된 데이터는 101개. 13853에서 101개를 제외한 데이터로 분석을 실시한다. "
   ]
  },
  {
   "cell_type": "code",
   "execution_count": 19,
   "metadata": {},
   "outputs": [],
   "source": [
    "final = df2[df2['Poem'] != '']"
   ]
  },
  {
   "cell_type": "code",
   "execution_count": 20,
   "metadata": {},
   "outputs": [],
   "source": [
    "final = final.reset_index(drop = True) #추후에 분석의 용이성을 위해 index를 재명명한다."
   ]
  },
  {
   "cell_type": "code",
   "execution_count": 21,
   "metadata": {},
   "outputs": [
    {
     "data": {
      "text/plain": [
       "count    13753.000000\n",
       "mean        93.309896\n",
       "std         57.398564\n",
       "min          0.000000\n",
       "25%         42.000000\n",
       "50%         92.000000\n",
       "75%        143.000000\n",
       "max        199.000000\n",
       "Name: Unnamed: 0, dtype: float64"
      ]
     },
     "execution_count": 21,
     "metadata": {},
     "output_type": "execute_result"
    }
   ],
   "source": [
    "final['Unnamed: 0'].describe() ### merge를 하면서 생선된 Unnamed 0 column에 대해 살펴본다."
   ]
  },
  {
   "cell_type": "code",
   "execution_count": 22,
   "metadata": {},
   "outputs": [],
   "source": [
    "final = final.drop('Unnamed: 0',axis=1) ### 의미가 없어 보이니 drop한다."
   ]
  },
  {
   "cell_type": "code",
   "execution_count": 23,
   "metadata": {
    "scrolled": true
   },
   "outputs": [
    {
     "data": {
      "text/html": [
       "<div>\n",
       "<style scoped>\n",
       "    .dataframe tbody tr th:only-of-type {\n",
       "        vertical-align: middle;\n",
       "    }\n",
       "\n",
       "    .dataframe tbody tr th {\n",
       "        vertical-align: top;\n",
       "    }\n",
       "\n",
       "    .dataframe thead th {\n",
       "        text-align: right;\n",
       "    }\n",
       "</style>\n",
       "<table border=\"1\" class=\"dataframe\">\n",
       "  <thead>\n",
       "    <tr style=\"text-align: right;\">\n",
       "      <th></th>\n",
       "      <th>Title</th>\n",
       "      <th>Poem</th>\n",
       "      <th>Poet</th>\n",
       "      <th>Tags</th>\n",
       "      <th>gender</th>\n",
       "    </tr>\n",
       "  </thead>\n",
       "  <tbody>\n",
       "    <tr>\n",
       "      <th>0</th>\n",
       "      <td>Objects Used to Prop Open a Window</td>\n",
       "      <td>Dog bone, stapler,   cribbage board, garlic pr...</td>\n",
       "      <td>Michelle Menting</td>\n",
       "      <td>NaN</td>\n",
       "      <td>F</td>\n",
       "    </tr>\n",
       "    <tr>\n",
       "      <th>1</th>\n",
       "      <td>The New Church</td>\n",
       "      <td>The old cupola glinted above the clouds, shone...</td>\n",
       "      <td>Lucia Cherciu</td>\n",
       "      <td>NaN</td>\n",
       "      <td>F</td>\n",
       "    </tr>\n",
       "    <tr>\n",
       "      <th>2</th>\n",
       "      <td>Look for Me</td>\n",
       "      <td>Look for me under the hood   of that old Chevr...</td>\n",
       "      <td>Ted Kooser</td>\n",
       "      <td>NaN</td>\n",
       "      <td>M</td>\n",
       "    </tr>\n",
       "    <tr>\n",
       "      <th>3</th>\n",
       "      <td>Wild Life</td>\n",
       "      <td>Behind the silo, the Mother Rabbit   hunches l...</td>\n",
       "      <td>Grace Cavalieri</td>\n",
       "      <td>NaN</td>\n",
       "      <td>F</td>\n",
       "    </tr>\n",
       "    <tr>\n",
       "      <th>4</th>\n",
       "      <td>Umbrella</td>\n",
       "      <td>When I push your button   you fly off the hand...</td>\n",
       "      <td>Connie Wanek</td>\n",
       "      <td>NaN</td>\n",
       "      <td>F</td>\n",
       "    </tr>\n",
       "  </tbody>\n",
       "</table>\n",
       "</div>"
      ],
      "text/plain": [
       "                                Title  \\\n",
       "0  Objects Used to Prop Open a Window   \n",
       "1                      The New Church   \n",
       "2                         Look for Me   \n",
       "3                           Wild Life   \n",
       "4                            Umbrella   \n",
       "\n",
       "                                                Poem              Poet Tags  \\\n",
       "0  Dog bone, stapler,   cribbage board, garlic pr...  Michelle Menting  NaN   \n",
       "1  The old cupola glinted above the clouds, shone...     Lucia Cherciu  NaN   \n",
       "2  Look for me under the hood   of that old Chevr...        Ted Kooser  NaN   \n",
       "3  Behind the silo, the Mother Rabbit   hunches l...   Grace Cavalieri  NaN   \n",
       "4  When I push your button   you fly off the hand...      Connie Wanek  NaN   \n",
       "\n",
       "  gender  \n",
       "0      F  \n",
       "1      F  \n",
       "2      M  \n",
       "3      F  \n",
       "4      F  "
      ]
     },
     "execution_count": 23,
     "metadata": {},
     "output_type": "execute_result"
    }
   ],
   "source": [
    "final.head()"
   ]
  },
  {
   "cell_type": "code",
   "execution_count": 24,
   "metadata": {},
   "outputs": [
    {
     "data": {
      "text/plain": [
       "13753"
      ]
     },
     "execution_count": 24,
     "metadata": {},
     "output_type": "execute_result"
    }
   ],
   "source": [
    "len(final)"
   ]
  },
  {
   "cell_type": "markdown",
   "metadata": {},
   "source": [
    "텍스트 형식의 자료를 머신러닝을 활용해 분석하기 위해 Count Vectorizer를 사용할 것이다. 이를 위해, 추가적인 정제 과정을 거칠 것이다. (앞서 진행했던 \\r, \\n의 제거를 여기서 한 번에 시행하여도 된다.)"
   ]
  },
  {
   "cell_type": "code",
   "execution_count": 25,
   "metadata": {},
   "outputs": [],
   "source": [
    "def poem_to_words(raw_review):\n",
    "    # 수집한 데이터를 정규화된 문자 리스트로 변환해주는 함수\n",
    "    # 입력: 문자열(수집한 리뷰 데이터)\n",
    "    # 출력: 문자열(정규화된 리뷰 데이터(단어), 공백으로 구분)\n",
    "    # stopwords를 제거하고 싶지 않다면, 5, 6번 과정을 제거합니다.\n",
    "    \n",
    "    #2. 문장부호 제거하기 ##이게 사실상 문자 빼고 다 제거하라는 얘기여서... 그렇지만 앞에 \\r, \\n제거 못하므로 의미 있는 프로세스였다고 결론\n",
    "    letters_only = re.sub(\"[^a-zA-Z]\", \" \", raw_review)\n",
    "    \n",
    "    #3. 소문자화 시키기(대문자 제거하기) Apple과 apple을 같은 단어로 분석하기 위함.\n",
    "    words = letters_only.lower()\n",
    "    \n",
    "    #4. 리스트로 변경(공백을 기준으로 리스트로 바꾸기)\n",
    "    words =  words.split()\n",
    "    \n",
    "    #5. set으로 변환(파이썬에서 set의 검색속도가 list보다 빠르기 때문에 set으로 변환)\n",
    "    # {set}: 리스트와 동일하나, 중복과 순서가 없다.\n",
    "    #stops = set(stopwords.words(\"english\"))\n",
    "    \n",
    "    #6. 문자 리스트에서 stopwords를 제거\n",
    "    #meaningful_words = [w for w in words if not w in stops]\n",
    "    \n",
    "    #7. stopwords가 제거된 문자리스트를 공백 기준으로 병합\n",
    "    result = \" \".join(words)\n",
    "    ##4와 7의 과정이 의미없다고 여길 수 있지만 불필요한 공백을 제거하는데 필요하다.\n",
    "    \n",
    "    return result"
   ]
  },
  {
   "cell_type": "code",
   "execution_count": 26,
   "metadata": {},
   "outputs": [
    {
     "data": {
      "text/plain": [
       "'dog bone stapler cribbage board garlic press because this window is loose lacks suction lacks grip bungee cord bootstrap dog leash leather belt because this window had sash cords they frayed they broke feather duster thatch of straw empty bottle of elmer s glue because this window is loud its hinges clack open clack shut stuffed bear baby blanket single crib newel because this window is split it s dividing in two velvet moss sagebrush willow branch robin s wing because this window it s pane less it s only a frame of air'"
      ]
     },
     "execution_count": 26,
     "metadata": {},
     "output_type": "execute_result"
    }
   ],
   "source": [
    "poem_to_words(final.loc[0,'Poem'])"
   ]
  },
  {
   "cell_type": "code",
   "execution_count": 27,
   "metadata": {},
   "outputs": [],
   "source": [
    "num_poem = final[\"Poem\"].size\n",
    "clean_train_poem = list() #빈 리스트를 생성하자."
   ]
  },
  {
   "cell_type": "code",
   "execution_count": 28,
   "metadata": {},
   "outputs": [
    {
     "name": "stdout",
     "output_type": "stream",
     "text": [
      "Review 1000 of 13753\n",
      "Review 2000 of 13753\n",
      "Review 3000 of 13753\n",
      "Review 4000 of 13753\n",
      "Review 5000 of 13753\n",
      "Review 6000 of 13753\n",
      "Review 7000 of 13753\n",
      "Review 8000 of 13753\n",
      "Review 9000 of 13753\n",
      "Review 10000 of 13753\n",
      "Review 11000 of 13753\n",
      "Review 12000 of 13753\n",
      "Review 13000 of 13753\n"
     ]
    }
   ],
   "source": [
    "for i in range(num_poem):\n",
    "    # 1,000개 단위로 현재 정규화 진행상황 출력\n",
    "    if (i+1)%1000 == 0:\n",
    "        print(\"Review {0} of {1}\".format(i+1, num_poem))\n",
    "    clean_train_poem.append(poem_to_words(final[\"Poem\"][i]))"
   ]
  },
  {
   "cell_type": "markdown",
   "metadata": {},
   "source": [
    "### [2-2] 성별 결측치 처리하기"
   ]
  },
  {
   "cell_type": "code",
   "execution_count": 29,
   "metadata": {},
   "outputs": [
    {
     "data": {
      "text/plain": [
       "M    8365\n",
       "F    5361\n",
       "Name: gender, dtype: int64"
      ]
     },
     "execution_count": 29,
     "metadata": {},
     "output_type": "execute_result"
    }
   ],
   "source": [
    "final['gender'].value_counts()"
   ]
  },
  {
   "cell_type": "markdown",
   "metadata": {},
   "source": [
    "우리는 결측치를 'M'으로 채워주기로 한다."
   ]
  },
  {
   "cell_type": "code",
   "execution_count": 30,
   "metadata": {},
   "outputs": [],
   "source": [
    "final['gender'] = final['gender'].fillna('M')"
   ]
  },
  {
   "cell_type": "markdown",
   "metadata": {},
   "source": [
    "## 4. 분석에 맞게 데이터 준비하기"
   ]
  },
  {
   "cell_type": "markdown",
   "metadata": {},
   "source": [
    "우리는 train set으로 CountVectorizer form을 만들어야 하기 떄문에 데이터가 정규화된 상태에서 trains set과 test set을 나눠줄 것입니다. 이 단계는 앞단에서 진행되어도 같은 결과를 가질 것입니다."
   ]
  },
  {
   "cell_type": "code",
   "execution_count": 31,
   "metadata": {},
   "outputs": [],
   "source": [
    "from sklearn.model_selection import train_test_split"
   ]
  },
  {
   "cell_type": "code",
   "execution_count": 32,
   "metadata": {},
   "outputs": [],
   "source": [
    "x_train, x_test, y_train, y_test = train_test_split(clean_train_poem, final['gender'])"
   ]
  },
  {
   "cell_type": "markdown",
   "metadata": {},
   "source": [
    "##### CountVectorizer를 trainset을 바탕으로 만들어봅시다"
   ]
  },
  {
   "cell_type": "code",
   "execution_count": 33,
   "metadata": {
    "scrolled": true
   },
   "outputs": [],
   "source": [
    "from sklearn.feature_extraction.text import CountVectorizer\n",
    "\n",
    "# CountVectorizer는 scikit-learn의 bag of words 구현 도구입니다.\n",
    "# CountVectorizer 오브젝트를 초기화합니다.\n",
    "def vectorize(x_train, x_test, n=5000):\n",
    "    vectorizer = CountVectorizer(analyzer=\"word\",\n",
    "                             tokenizer=None,\n",
    "                             preprocessor=None,\n",
    "                             stop_words=None,\n",
    "                             max_features=n)\n",
    "\n",
    "    final_x_train = vectorizer.fit_transform(x_train)\n",
    "    final_x_train = final_x_train.toarray()\n",
    "    final_x_test = vectorizer.fit_transform(x_test)\n",
    "    final_x_test = final_x_test.toarray()\n",
    "    vocab = vectorizer.get_feature_names() #생성된 단어들을 알 수 있다.\n",
    "    return([final_x_train, final_x_test, vocab])"
   ]
  },
  {
   "cell_type": "markdown",
   "metadata": {},
   "source": [
    "잘 돌아가는지 보기 위해서 n = 50으로 practice set을 만들어 본다"
   ]
  },
  {
   "cell_type": "code",
   "execution_count": 35,
   "metadata": {},
   "outputs": [],
   "source": [
    "practice = vectorize(x_train, x_test, 50)\n",
    "practice_x_train = practice[0]\n",
    "practice_x_test = practice[1]\n",
    "vocab_practice = practice[2]"
   ]
  },
  {
   "cell_type": "code",
   "execution_count": 36,
   "metadata": {},
   "outputs": [
    {
     "data": {
      "text/html": [
       "<div>\n",
       "<style scoped>\n",
       "    .dataframe tbody tr th:only-of-type {\n",
       "        vertical-align: middle;\n",
       "    }\n",
       "\n",
       "    .dataframe tbody tr th {\n",
       "        vertical-align: top;\n",
       "    }\n",
       "\n",
       "    .dataframe thead th {\n",
       "        text-align: right;\n",
       "    }\n",
       "</style>\n",
       "<table border=\"1\" class=\"dataframe\">\n",
       "  <thead>\n",
       "    <tr style=\"text-align: right;\">\n",
       "      <th></th>\n",
       "      <th>vocab</th>\n",
       "      <th>count1</th>\n",
       "      <th>count2</th>\n",
       "    </tr>\n",
       "  </thead>\n",
       "  <tbody>\n",
       "    <tr>\n",
       "      <th>0</th>\n",
       "      <td>all</td>\n",
       "      <td>12236</td>\n",
       "      <td>3972</td>\n",
       "    </tr>\n",
       "    <tr>\n",
       "      <th>1</th>\n",
       "      <td>an</td>\n",
       "      <td>6473</td>\n",
       "      <td>2175</td>\n",
       "    </tr>\n",
       "    <tr>\n",
       "      <th>2</th>\n",
       "      <td>and</td>\n",
       "      <td>82069</td>\n",
       "      <td>26700</td>\n",
       "    </tr>\n",
       "    <tr>\n",
       "      <th>3</th>\n",
       "      <td>are</td>\n",
       "      <td>9364</td>\n",
       "      <td>3143</td>\n",
       "    </tr>\n",
       "    <tr>\n",
       "      <th>4</th>\n",
       "      <td>as</td>\n",
       "      <td>16267</td>\n",
       "      <td>5369</td>\n",
       "    </tr>\n",
       "  </tbody>\n",
       "</table>\n",
       "</div>"
      ],
      "text/plain": [
       "  vocab  count1  count2\n",
       "0   all   12236    3972\n",
       "1    an    6473    2175\n",
       "2   and   82069   26700\n",
       "3   are    9364    3143\n",
       "4    as   16267    5369"
      ]
     },
     "execution_count": 36,
     "metadata": {},
     "output_type": "execute_result"
    }
   ],
   "source": [
    "import numpy as np\n",
    "\n",
    "distrain = np.sum(practice_x_train, axis=0)\n",
    "distest = np.sum(practice_x_test, axis = 0)\n",
    "\n",
    "feature_cnt = pd.DataFrame({\n",
    "    'vocab':vocab_practice,\n",
    "    'count1':distrain,\n",
    "    'count2':distest\n",
    "})\n",
    "feature_cnt.head()"
   ]
  },
  {
   "cell_type": "markdown",
   "metadata": {},
   "source": [
    "## 5. 모델에 대입하기"
   ]
  },
  {
   "cell_type": "markdown",
   "metadata": {},
   "source": [
    "### (1) - 1 Random Forest"
   ]
  },
  {
   "cell_type": "code",
   "execution_count": 37,
   "metadata": {},
   "outputs": [],
   "source": [
    "from sklearn.model_selection import train_test_split"
   ]
  },
  {
   "cell_type": "code",
   "execution_count": 38,
   "metadata": {},
   "outputs": [
    {
     "name": "stdout",
     "output_type": "stream",
     "text": [
      "Training the random forest...\n",
      "Complete Learning\n"
     ]
    }
   ],
   "source": [
    "# RandomForest모델을 활용하여 분류하기!!\n",
    "print(\"Training the random forest...\")\n",
    "from sklearn.ensemble import RandomForestClassifier\n",
    "\n",
    "# Random Forest 분류기를 100가지 트리로 초기화합니다.\n",
    "forest = RandomForestClassifier(n_estimators=100)\n",
    "\n",
    "# forest를 training set으로 학습시키고 bag of words를 feature로\n",
    "# sentiment label을 종속 변수로 설정합니다.\n",
    "\n",
    "# 실행하는데 시간이 소요됩니다.\n",
    "forest= forest.fit(practice_x_train, y_train)\n",
    "print(\"Complete Learning\")"
   ]
  },
  {
   "cell_type": "code",
   "execution_count": 39,
   "metadata": {},
   "outputs": [
    {
     "name": "stdout",
     "output_type": "stream",
     "text": [
      "0.9994182664339732\n",
      "0.6013375981389939\n"
     ]
    }
   ],
   "source": [
    "print(forest.score(practice_x_train, y_train))\n",
    "print(forest.score(practice_x_test, y_test))\n"
   ]
  },
  {
   "cell_type": "code",
   "execution_count": 40,
   "metadata": {},
   "outputs": [],
   "source": [
    "def score(n, x_train = x_train, x_test = x_test, y_train = y_train, y_test = y_test, N = 100):\n",
    "    data = vectorize(x_train, x_test, n)\n",
    "    train = data[0]\n",
    "    test = data[1]\n",
    "    forest = RandomForestClassifier(n_estimators = N)\n",
    "    forest = forest.fit(train, y_train)\n",
    "    score1 = forest.score(train, y_train)\n",
    "    score2 = forest.score(test, y_test)\n",
    "    return([score1, score2, n])"
   ]
  },
  {
   "cell_type": "code",
   "execution_count": 41,
   "metadata": {},
   "outputs": [],
   "source": [
    "accuracy = pd.DataFrame(columns = ['train', 'test', 'n'])"
   ]
  },
  {
   "cell_type": "code",
   "execution_count": 42,
   "metadata": {},
   "outputs": [],
   "source": [
    "#for i in range(1, 5000):\n",
    "    \n",
    "#    accuracy.loc[i] = score(i)\n",
    "#    if (i+1)%100 == 0:\n",
    "    \n",
    "    \n",
    "    \n",
    "#    print(\"Review {0} of {1}\".format(i+1, 5000))"
   ]
  },
  {
   "cell_type": "markdown",
   "metadata": {},
   "source": [
    "1300까지 돌린 데이터를 accuracy로 저장해 두었다. 알고리즘이 너무 조악해서 포문을 돌리는데 오랜 시간이 걸리기 때문이다."
   ]
  },
  {
   "cell_type": "code",
   "execution_count": 43,
   "metadata": {},
   "outputs": [],
   "source": [
    "accuracy = pd.read_csv('accuracy.csv')"
   ]
  },
  {
   "cell_type": "code",
   "execution_count": 44,
   "metadata": {},
   "outputs": [
    {
     "data": {
      "text/html": [
       "<div>\n",
       "<style scoped>\n",
       "    .dataframe tbody tr th:only-of-type {\n",
       "        vertical-align: middle;\n",
       "    }\n",
       "\n",
       "    .dataframe tbody tr th {\n",
       "        vertical-align: top;\n",
       "    }\n",
       "\n",
       "    .dataframe thead th {\n",
       "        text-align: right;\n",
       "    }\n",
       "</style>\n",
       "<table border=\"1\" class=\"dataframe\">\n",
       "  <thead>\n",
       "    <tr style=\"text-align: right;\">\n",
       "      <th></th>\n",
       "      <th>train</th>\n",
       "      <th>test</th>\n",
       "      <th>n</th>\n",
       "    </tr>\n",
       "  </thead>\n",
       "  <tbody>\n",
       "    <tr>\n",
       "      <th>0</th>\n",
       "      <td>0.606748</td>\n",
       "      <td>0.614714</td>\n",
       "      <td>1.0</td>\n",
       "    </tr>\n",
       "    <tr>\n",
       "      <th>1</th>\n",
       "      <td>0.651832</td>\n",
       "      <td>0.580401</td>\n",
       "      <td>2.0</td>\n",
       "    </tr>\n",
       "    <tr>\n",
       "      <th>2</th>\n",
       "      <td>0.761877</td>\n",
       "      <td>0.573132</td>\n",
       "      <td>3.0</td>\n",
       "    </tr>\n",
       "    <tr>\n",
       "      <th>3</th>\n",
       "      <td>0.882296</td>\n",
       "      <td>0.569352</td>\n",
       "      <td>4.0</td>\n",
       "    </tr>\n",
       "    <tr>\n",
       "      <th>4</th>\n",
       "      <td>0.948710</td>\n",
       "      <td>0.584763</td>\n",
       "      <td>5.0</td>\n",
       "    </tr>\n",
       "  </tbody>\n",
       "</table>\n",
       "</div>"
      ],
      "text/plain": [
       "      train      test    n\n",
       "0  0.606748  0.614714  1.0\n",
       "1  0.651832  0.580401  2.0\n",
       "2  0.761877  0.573132  3.0\n",
       "3  0.882296  0.569352  4.0\n",
       "4  0.948710  0.584763  5.0"
      ]
     },
     "execution_count": 44,
     "metadata": {},
     "output_type": "execute_result"
    }
   ],
   "source": [
    "accuracy.head()"
   ]
  },
  {
   "cell_type": "code",
   "execution_count": null,
   "metadata": {},
   "outputs": [],
   "source": [
    "#accuracy.to_csv('accuracy.csv', index = False ) # for문이 돌아가는데 시간이 너무 오래 걸리므로 accuracy라는 이름의 파일로 저장을 해둔다."
   ]
  },
  {
   "cell_type": "markdown",
   "metadata": {},
   "source": [
    "#### n의 크기에 따라 accuracy가 어떻게 변화하는지를 보자"
   ]
  },
  {
   "cell_type": "code",
   "execution_count": 45,
   "metadata": {},
   "outputs": [],
   "source": [
    "import seaborn as sns"
   ]
  },
  {
   "cell_type": "code",
   "execution_count": 46,
   "metadata": {},
   "outputs": [
    {
     "data": {
      "text/plain": [
       "<matplotlib.axes._subplots.AxesSubplot at 0x202ded470f0>"
      ]
     },
     "execution_count": 46,
     "metadata": {},
     "output_type": "execute_result"
    },
    {
     "data": {
      "image/png": "[encoded data removed]",
      "text/plain": [
       "<Figure size 432x288 with 1 Axes>"
      ]
     },
     "metadata": {
      "needs_background": "light"
     },
     "output_type": "display_data"
    }
   ],
   "source": [
    "sns.distplot(accuracy['train'], hist = False, label = 'train accuracy')\n",
    "sns.distplot(accuracy['test'], hist = False, label = 'test accuracy')"
   ]
  },
  {
   "cell_type": "markdown",
   "metadata": {},
   "source": [
    "test set의 경우는 전체적으로 감소하는 트렌드를 보인다. "
   ]
  },
  {
   "cell_type": "code",
   "execution_count": 47,
   "metadata": {},
   "outputs": [
    {
     "data": {
      "text/plain": [
       "<seaborn.axisgrid.FacetGrid at 0x202def83940>"
      ]
     },
     "execution_count": 47,
     "metadata": {},
     "output_type": "execute_result"
    },
    {
     "data": {
      "image/png": "[encoded data removed]",
      "text/plain": [
       "<Figure size 360x360 with 1 Axes>"
      ]
     },
     "metadata": {
      "needs_background": "light"
     },
     "output_type": "display_data"
    },
    {
     "data": {
      "image/png": "[encoded data removed]",
      "text/plain": [
       "<Figure size 360x360 with 1 Axes>"
      ]
     },
     "metadata": {
      "needs_background": "light"
     },
     "output_type": "display_data"
    }
   ],
   "source": [
    "sns.lmplot(data = accuracy , x='n', y ='train', fit_reg = False)\n",
    "sns.lmplot(data = accuracy , x='n', y ='test', fit_reg = False)"
   ]
  },
  {
   "cell_type": "code",
   "execution_count": 48,
   "metadata": {},
   "outputs": [
    {
     "data": {
      "text/plain": [
       "0.62867112532713"
      ]
     },
     "execution_count": 48,
     "metadata": {},
     "output_type": "execute_result"
    }
   ],
   "source": [
    "accuracy['test'].max()"
   ]
  },
  {
   "cell_type": "code",
   "execution_count": 49,
   "metadata": {},
   "outputs": [
    {
     "data": {
      "text/html": [
       "<div>\n",
       "<style scoped>\n",
       "    .dataframe tbody tr th:only-of-type {\n",
       "        vertical-align: middle;\n",
       "    }\n",
       "\n",
       "    .dataframe tbody tr th {\n",
       "        vertical-align: top;\n",
       "    }\n",
       "\n",
       "    .dataframe thead th {\n",
       "        text-align: right;\n",
       "    }\n",
       "</style>\n",
       "<table border=\"1\" class=\"dataframe\">\n",
       "  <thead>\n",
       "    <tr style=\"text-align: right;\">\n",
       "      <th></th>\n",
       "      <th>train</th>\n",
       "      <th>test</th>\n",
       "      <th>n</th>\n",
       "    </tr>\n",
       "  </thead>\n",
       "  <tbody>\n",
       "    <tr>\n",
       "      <th>188</th>\n",
       "      <td>0.999709</td>\n",
       "      <td>0.628671</td>\n",
       "      <td>189.0</td>\n",
       "    </tr>\n",
       "  </tbody>\n",
       "</table>\n",
       "</div>"
      ],
      "text/plain": [
       "        train      test      n\n",
       "188  0.999709  0.628671  189.0"
      ]
     },
     "execution_count": 49,
     "metadata": {},
     "output_type": "execute_result"
    }
   ],
   "source": [
    "accuracy[accuracy['test'] == accuracy['test'].max()] "
   ]
  },
  {
   "cell_type": "markdown",
   "metadata": {},
   "source": [
    "사용자 정의함수 score를 조금 개조해 predict함수를 만들어본다. "
   ]
  },
  {
   "cell_type": "code",
   "execution_count": 50,
   "metadata": {},
   "outputs": [],
   "source": [
    "def predict(n, x_train = x_train, x_test = x_test, y_train = y_train, y_test = y_test, N = 100):\n",
    "    data = vectorize(x_train, x_test, n)\n",
    "    train = data[0]\n",
    "    test = data[1]\n",
    "    forest = RandomForestClassifier(n_estimators = N)\n",
    "    forest = forest.fit(train, y_train)\n",
    "    score1 = forest.score(train, y_train)\n",
    "    score2 = forest.score(test, y_test)\n",
    "    predict = forest.predict(test)\n",
    "    return([predict])"
   ]
  },
  {
   "cell_type": "markdown",
   "metadata": {},
   "source": [
    "가장 accuracy가 높게 나오는 n 값인 n = 189에 대하여 prediction 값을 직접 출력해 어떤 부분에서 예측을 제대로 하고 또 제대로 하지 못하였는지를 관찰해 볼 것이다. 가령 동일 시인의 작품이 train set에 있는 경우에 test set의 작품을 더 잘 predict할 수 있는지, "
   ]
  },
  {
   "cell_type": "code",
   "execution_count": 51,
   "metadata": {},
   "outputs": [],
   "source": [
    "prediction = predict(n = 189)"
   ]
  },
  {
   "cell_type": "markdown",
   "metadata": {},
   "source": [
    "prediction을 살펴보며 train set에 동일 시인의 작품이 있는 경우는 예측을 더 잘하는가 여부를 살펴보았다. 큰 관련성은 없어보였다."
   ]
  },
  {
   "cell_type": "markdown",
   "metadata": {},
   "source": [
    "지금부터 아래에 등장하는 기법들은 나이브하게 적용만 해본 것이다."
   ]
  },
  {
   "cell_type": "markdown",
   "metadata": {},
   "source": [
    "### 1-(2) AdaBoostRegressor"
   ]
  },
  {
   "cell_type": "code",
   "execution_count": 52,
   "metadata": {},
   "outputs": [],
   "source": [
    "from sklearn.tree import DecisionTreeClassifier\n",
    "from sklearn.ensemble import AdaBoostClassifier"
   ]
  },
  {
   "cell_type": "code",
   "execution_count": 53,
   "metadata": {},
   "outputs": [],
   "source": [
    "def adaboost_predict(n, x_train = x_train, x_test = x_test, y_train = y_train, y_test = y_test, N = 100):\n",
    "    data = vectorize(x_train, x_test, n)\n",
    "    train = data[0]\n",
    "    test = data[1]\n",
    "    ada_clf = AdaBoostClassifier(\n",
    "        DecisionTreeClassifier(max_depth = 1), n_estimators = 2000, \n",
    "        algorithm = \"SAMME.R\", learning_rate = 0.5)\n",
    "    ada_clf = ada_clf.fit(train, y_train)\n",
    "    score1 = ada_clf.score(train, y_train)\n",
    "    score2 = ada_clf.score(test, y_test)\n",
    "    predict = ada_clf.predict(test)\n",
    "    return([score1, score2, predict])"
   ]
  },
  {
   "cell_type": "code",
   "execution_count": 54,
   "metadata": {},
   "outputs": [
    {
     "data": {
      "text/plain": [
       "[0.6999224355245298,\n",
       " 0.512067461471358,\n",
       " array(['M', 'M', 'M', ..., 'F', 'F', 'M'], dtype=object)]"
      ]
     },
     "execution_count": 54,
     "metadata": {},
     "output_type": "execute_result"
    }
   ],
   "source": [
    "adaboost_predict(189)"
   ]
  },
  {
   "cell_type": "markdown",
   "metadata": {},
   "source": [
    "random forest를 활용한 것에 비해서 test set과 train set의 accuracy의 차이가 더 적지만, 절대적 값으로는 열등하다"
   ]
  },
  {
   "cell_type": "markdown",
   "metadata": {},
   "source": [
    "### (2) KNN"
   ]
  },
  {
   "cell_type": "code",
   "execution_count": 55,
   "metadata": {},
   "outputs": [],
   "source": [
    "from sklearn.neighbors import KNeighborsClassifier\n",
    "from sklearn.model_selection import KFold\n",
    "from sklearn.model_selection import cross_val_score\n",
    "k_fold = KFold(n_splits=10, shuffle=True, random_state=0)"
   ]
  },
  {
   "cell_type": "code",
   "execution_count": 60,
   "metadata": {},
   "outputs": [],
   "source": [
    "def knn(n, x_train = x_train, x_test = x_test, y_train = y_train, y_test = y_test, N = 13):\n",
    "    data = vectorize(x_train, x_test, n)\n",
    "    train = data[0]\n",
    "    test = data[1]\n",
    "    clf = KNeighborsClassifier(n_neighbors = N)\n",
    "    clf.fit(train, y_train)\n",
    "    scoring = 'accuracy'\n",
    "    score1 = cross_val_score(clf, train, y_train, cv = k_fold, n_jobs = 1, scoring = scoring)\n",
    "    score2 = clf.score(train, y_train)\n",
    "    score3 = clf.score(test, y_test)\n",
    "    predict = clf.predict(test)\n",
    "    return([score1, score2, score3, predict])"
   ]
  },
  {
   "cell_type": "code",
   "execution_count": 61,
   "metadata": {},
   "outputs": [
    {
     "data": {
      "text/plain": [
       "[array([0.59302326, 0.60174419, 0.57848837, 0.60852713, 0.58874879,\n",
       "        0.59941804, 0.57322987, 0.59068865, 0.59941804, 0.60329777]),\n",
       " 0.6661818886949777,\n",
       " 0.5562663564989823,\n",
       " array(['F', 'F', 'F', ..., 'M', 'M', 'M'], dtype=object)]"
      ]
     },
     "execution_count": 61,
     "metadata": {},
     "output_type": "execute_result"
    }
   ],
   "source": [
    "knn(n=188) #차례로 train cross validation score, train score, test score이다."
   ]
  },
  {
   "cell_type": "markdown",
   "metadata": {},
   "source": [
    "train set과 test set 사이에 차이가 많이 나지 않는다. 하지만 예측력은 낮은 편이다."
   ]
  },
  {
   "cell_type": "markdown",
   "metadata": {},
   "source": [
    "### (3) Naive Bayes"
   ]
  },
  {
   "cell_type": "code",
   "execution_count": 59,
   "metadata": {},
   "outputs": [],
   "source": [
    "from sklearn.naive_bayes import GaussianNB"
   ]
  },
  {
   "cell_type": "code",
   "execution_count": 76,
   "metadata": {},
   "outputs": [],
   "source": [
    "def n_bayes(n, x_train = x_train, x_test = x_test, y_train = y_train, y_test = y_test):\n",
    "    data = vectorize(x_train, x_test, n)\n",
    "    train = data[0]\n",
    "    test = data[1]\n",
    "    clf = GaussianNB()\n",
    "    clf.fit(train, y_train)\n",
    "    scoring = 'accuracy'\n",
    "    score1 = cross_val_score(clf, train, y_train, cv = k_fold, n_jobs = 1, scoring = scoring)\n",
    "    score2 = clf.score(train, y_train)\n",
    "    score3 = clf.score(test, y_test)\n",
    "    predict = clf.predict(test)\n",
    "    return([score1, score2, score3, predict])"
   ]
  },
  {
   "cell_type": "code",
   "execution_count": 77,
   "metadata": {},
   "outputs": [],
   "source": [
    "n_bayes = n_bayes(n=188)"
   ]
  },
  {
   "cell_type": "code",
   "execution_count": 78,
   "metadata": {},
   "outputs": [
    {
     "data": {
      "text/plain": [
       "[array([0.45251938, 0.46802326, 0.46899225, 0.44670543, 0.46750727,\n",
       "        0.4442289 , 0.46362755, 0.45974782, 0.44810863, 0.46944714]),\n",
       " 0.459666472755478,\n",
       " 0.5327129979645245,\n",
       " array(['M', 'F', 'F', ..., 'M', 'M', 'F'], dtype='<U1')]"
      ]
     },
     "execution_count": 78,
     "metadata": {},
     "output_type": "execute_result"
    }
   ],
   "source": [
    "n_bayes"
   ]
  },
  {
   "cell_type": "markdown",
   "metadata": {},
   "source": [
    "### (4) SVC"
   ]
  },
  {
   "cell_type": "code",
   "execution_count": 79,
   "metadata": {},
   "outputs": [],
   "source": [
    "from sklearn.svm import SVC"
   ]
  },
  {
   "cell_type": "code",
   "execution_count": 80,
   "metadata": {},
   "outputs": [],
   "source": [
    "def svc(n, x_train = x_train, x_test = x_test, y_train = y_train, y_test = y_test):\n",
    "    data = vectorize(x_train, x_test, n)\n",
    "    train = data[0]\n",
    "    test = data[1]\n",
    "    clf = SVC(gamma = 'auto')\n",
    "    clf.fit(train, y_train)\n",
    "    scoring = 'accuracy'\n",
    "    score1 = cross_val_score(clf, train, y_train, cv = k_fold, n_jobs = 1, scoring = scoring)\n",
    "    score2 = clf.score(train, y_train)\n",
    "    score3 = clf.score(test, y_test)\n",
    "    predict = clf.predict(test)\n",
    "    return([score1, score2, score3, predict])"
   ]
  },
  {
   "cell_type": "code",
   "execution_count": 81,
   "metadata": {},
   "outputs": [
    {
     "data": {
      "text/plain": [
       "[array([0.62790698, 0.63565891, 0.62112403, 0.61627907, 0.60038797,\n",
       "        0.64306499, 0.6013579 , 0.61784675, 0.62172648, 0.63336566]),\n",
       " 0.7858250921078146,\n",
       " 0.6062808956091887,\n",
       " array(['M', 'M', 'M', ..., 'M', 'M', 'M'], dtype=object)]"
      ]
     },
     "execution_count": 81,
     "metadata": {},
     "output_type": "execute_result"
    }
   ],
   "source": [
    "svc(188)"
   ]
  }
 ],
 "metadata": {
  "kernelspec": {
   "display_name": "Python 3",
   "language": "python",
   "name": "python3"
  },
  "language_info": {
   "codemirror_mode": {
    "name": "ipython",
    "version": 3
   },
   "file_extension": ".py",
   "mimetype": "text/x-python",
   "name": "python",
   "nbconvert_exporter": "python",
   "pygments_lexer": "ipython3",
   "version": "3.7.3"
  }
 },
 "nbformat": 4,
 "nbformat_minor": 2
}
